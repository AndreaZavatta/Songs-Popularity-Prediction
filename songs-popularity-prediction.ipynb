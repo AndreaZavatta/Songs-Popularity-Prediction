{
 "cells": [
  {
   "attachments": {},
   "cell_type": "markdown",
   "metadata": {},
   "source": [
    "# Songs Popularity Prediction"
   ]
  },
  {
   "attachments": {},
   "cell_type": "markdown",
   "metadata": {},
   "source": [
    "## Obiettivo \n",
    "L'obiettivo di questo progetto è la creazione di un modello in grado di predire la popolarità di una canzone sulla base di alcuni suoi parametri, quali il genere, la durata e l'anno di uscita, e sulla base di alcuni parametri che riguardano l'artista che l'ha creata. "
   ]
  },
  {
   "attachments": {},
   "cell_type": "markdown",
   "metadata": {},
   "source": [
    "## Dataset\n",
    "Il dataset è stato reperito all'indirizzo https://www.kaggle.com/datasets/conorvaneden/best-songs-on-spotify-for-every-year-2000-2023 e contiene dati sulle 100 canzoni più popolari per ogni anno dal 2000 al 2023, per un totale di 2385 record."
   ]
  },
  {
   "attachments": {},
   "cell_type": "markdown",
   "metadata": {},
   "source": [
    "## Implementazione"
   ]
  },
  {
   "cell_type": "code",
   "execution_count": 71,
   "metadata": {},
   "outputs": [],
   "source": [
    "import numpy as np\n",
    "import pandas as pd\n",
    "import matplotlib.pyplot as plt"
   ]
  },
  {
   "attachments": {},
   "cell_type": "markdown",
   "metadata": {},
   "source": [
    "### Descrizione features"
   ]
  },
  {
   "attachments": {},
   "cell_type": "markdown",
   "metadata": {},
   "source": [
    "Carichiamo innanzitutto il dataset dal file .csv e mostriamone le prime righe."
   ]
  },
  {
   "cell_type": "code",
   "execution_count": 72,
   "metadata": {},
   "outputs": [
    {
     "data": {
      "text/html": [
       "<div>\n",
       "<style scoped>\n",
       "    .dataframe tbody tr th:only-of-type {\n",
       "        vertical-align: middle;\n",
       "    }\n",
       "\n",
       "    .dataframe tbody tr th {\n",
       "        vertical-align: top;\n",
       "    }\n",
       "\n",
       "    .dataframe thead th {\n",
       "        text-align: right;\n",
       "    }\n",
       "</style>\n",
       "<table border=\"1\" class=\"dataframe\">\n",
       "  <thead>\n",
       "    <tr style=\"text-align: right;\">\n",
       "      <th></th>\n",
       "      <th>title</th>\n",
       "      <th>artist</th>\n",
       "      <th>top genre</th>\n",
       "      <th>year</th>\n",
       "      <th>bpm</th>\n",
       "      <th>energy</th>\n",
       "      <th>danceability</th>\n",
       "      <th>dB</th>\n",
       "      <th>liveness</th>\n",
       "      <th>valence</th>\n",
       "      <th>duration</th>\n",
       "      <th>acousticness</th>\n",
       "      <th>speechiness</th>\n",
       "      <th>popularity</th>\n",
       "    </tr>\n",
       "  </thead>\n",
       "  <tbody>\n",
       "    <tr>\n",
       "      <th>0</th>\n",
       "      <td>Flowers</td>\n",
       "      <td>Miley Cyrus</td>\n",
       "      <td>pop</td>\n",
       "      <td>2023</td>\n",
       "      <td>118</td>\n",
       "      <td>68</td>\n",
       "      <td>71</td>\n",
       "      <td>-4</td>\n",
       "      <td>3</td>\n",
       "      <td>65</td>\n",
       "      <td>200</td>\n",
       "      <td>6</td>\n",
       "      <td>7</td>\n",
       "      <td>98</td>\n",
       "    </tr>\n",
       "    <tr>\n",
       "      <th>1</th>\n",
       "      <td>Cupid - Twin Ver.</td>\n",
       "      <td>FIFTY FIFTY</td>\n",
       "      <td>k-pop girl group</td>\n",
       "      <td>2023</td>\n",
       "      <td>120</td>\n",
       "      <td>59</td>\n",
       "      <td>78</td>\n",
       "      <td>-8</td>\n",
       "      <td>35</td>\n",
       "      <td>73</td>\n",
       "      <td>174</td>\n",
       "      <td>44</td>\n",
       "      <td>3</td>\n",
       "      <td>97</td>\n",
       "    </tr>\n",
       "    <tr>\n",
       "      <th>2</th>\n",
       "      <td>BESO</td>\n",
       "      <td>ROSALÍA</td>\n",
       "      <td>pop</td>\n",
       "      <td>2023</td>\n",
       "      <td>95</td>\n",
       "      <td>64</td>\n",
       "      <td>77</td>\n",
       "      <td>-7</td>\n",
       "      <td>17</td>\n",
       "      <td>53</td>\n",
       "      <td>195</td>\n",
       "      <td>74</td>\n",
       "      <td>14</td>\n",
       "      <td>96</td>\n",
       "    </tr>\n",
       "    <tr>\n",
       "      <th>3</th>\n",
       "      <td>Boy's a liar Pt. 2</td>\n",
       "      <td>PinkPantheress</td>\n",
       "      <td>bronx drill</td>\n",
       "      <td>2023</td>\n",
       "      <td>133</td>\n",
       "      <td>81</td>\n",
       "      <td>70</td>\n",
       "      <td>-8</td>\n",
       "      <td>25</td>\n",
       "      <td>86</td>\n",
       "      <td>131</td>\n",
       "      <td>25</td>\n",
       "      <td>5</td>\n",
       "      <td>96</td>\n",
       "    </tr>\n",
       "    <tr>\n",
       "      <th>4</th>\n",
       "      <td>Creepin' (with The Weeknd &amp; 21 Savage)</td>\n",
       "      <td>Metro Boomin</td>\n",
       "      <td>rap</td>\n",
       "      <td>2022</td>\n",
       "      <td>98</td>\n",
       "      <td>62</td>\n",
       "      <td>72</td>\n",
       "      <td>-6</td>\n",
       "      <td>8</td>\n",
       "      <td>17</td>\n",
       "      <td>222</td>\n",
       "      <td>42</td>\n",
       "      <td>5</td>\n",
       "      <td>96</td>\n",
       "    </tr>\n",
       "    <tr>\n",
       "      <th>5</th>\n",
       "      <td>Daylight</td>\n",
       "      <td>David Kushner</td>\n",
       "      <td>gen z singer-songwriter</td>\n",
       "      <td>2023</td>\n",
       "      <td>130</td>\n",
       "      <td>43</td>\n",
       "      <td>51</td>\n",
       "      <td>-9</td>\n",
       "      <td>9</td>\n",
       "      <td>32</td>\n",
       "      <td>213</td>\n",
       "      <td>83</td>\n",
       "      <td>3</td>\n",
       "      <td>96</td>\n",
       "    </tr>\n",
       "    <tr>\n",
       "      <th>6</th>\n",
       "      <td>TQG</td>\n",
       "      <td>KAROL G</td>\n",
       "      <td>reggaeton</td>\n",
       "      <td>2023</td>\n",
       "      <td>180</td>\n",
       "      <td>63</td>\n",
       "      <td>72</td>\n",
       "      <td>-4</td>\n",
       "      <td>9</td>\n",
       "      <td>61</td>\n",
       "      <td>199</td>\n",
       "      <td>67</td>\n",
       "      <td>28</td>\n",
       "      <td>96</td>\n",
       "    </tr>\n",
       "    <tr>\n",
       "      <th>7</th>\n",
       "      <td>Calm Down (with Selena Gomez)</td>\n",
       "      <td>Rema</td>\n",
       "      <td>afrobeats</td>\n",
       "      <td>2022</td>\n",
       "      <td>107</td>\n",
       "      <td>81</td>\n",
       "      <td>80</td>\n",
       "      <td>-5</td>\n",
       "      <td>11</td>\n",
       "      <td>80</td>\n",
       "      <td>239</td>\n",
       "      <td>38</td>\n",
       "      <td>4</td>\n",
       "      <td>95</td>\n",
       "    </tr>\n",
       "    <tr>\n",
       "      <th>8</th>\n",
       "      <td>Anti-Hero</td>\n",
       "      <td>Taylor Swift</td>\n",
       "      <td>pop</td>\n",
       "      <td>2022</td>\n",
       "      <td>97</td>\n",
       "      <td>64</td>\n",
       "      <td>64</td>\n",
       "      <td>-7</td>\n",
       "      <td>14</td>\n",
       "      <td>53</td>\n",
       "      <td>201</td>\n",
       "      <td>13</td>\n",
       "      <td>5</td>\n",
       "      <td>94</td>\n",
       "    </tr>\n",
       "    <tr>\n",
       "      <th>9</th>\n",
       "      <td>Here With Me</td>\n",
       "      <td>d4vd</td>\n",
       "      <td>bedroom pop</td>\n",
       "      <td>2022</td>\n",
       "      <td>132</td>\n",
       "      <td>47</td>\n",
       "      <td>57</td>\n",
       "      <td>-8</td>\n",
       "      <td>13</td>\n",
       "      <td>29</td>\n",
       "      <td>242</td>\n",
       "      <td>53</td>\n",
       "      <td>3</td>\n",
       "      <td>94</td>\n",
       "    </tr>\n",
       "  </tbody>\n",
       "</table>\n",
       "</div>"
      ],
      "text/plain": [
       "                                    title          artist  \\\n",
       "0                                 Flowers     Miley Cyrus   \n",
       "1                       Cupid - Twin Ver.     FIFTY FIFTY   \n",
       "2                                    BESO         ROSALÍA   \n",
       "3                      Boy's a liar Pt. 2  PinkPantheress   \n",
       "4  Creepin' (with The Weeknd & 21 Savage)    Metro Boomin   \n",
       "5                                Daylight   David Kushner   \n",
       "6                                     TQG         KAROL G   \n",
       "7           Calm Down (with Selena Gomez)            Rema   \n",
       "8                               Anti-Hero    Taylor Swift   \n",
       "9                            Here With Me            d4vd   \n",
       "\n",
       "                 top genre  year  bpm  energy  danceability   dB  liveness  \\\n",
       "0                      pop  2023  118      68             71  -4         3   \n",
       "1         k-pop girl group  2023  120      59             78  -8        35   \n",
       "2                      pop  2023   95      64             77  -7        17   \n",
       "3              bronx drill  2023  133      81             70  -8        25   \n",
       "4                      rap  2022   98      62             72  -6         8   \n",
       "5  gen z singer-songwriter  2023  130      43             51  -9         9   \n",
       "6                reggaeton  2023  180      63             72  -4         9   \n",
       "7                afrobeats  2022  107      81             80  -5        11   \n",
       "8                      pop  2022   97      64             64  -7        14   \n",
       "9              bedroom pop  2022  132      47             57  -8        13   \n",
       "\n",
       "   valence  duration  acousticness  speechiness   popularity  \n",
       "0       65       200             6             7          98  \n",
       "1       73       174            44             3          97  \n",
       "2       53       195            74            14          96  \n",
       "3       86       131            25             5          96  \n",
       "4       17       222            42             5          96  \n",
       "5       32       213            83             3          96  \n",
       "6       61       199            67            28          96  \n",
       "7       80       239            38             4          95  \n",
       "8       53       201            13             5          94  \n",
       "9       29       242            53             3          94  "
      ]
     },
     "execution_count": 72,
     "metadata": {},
     "output_type": "execute_result"
    }
   ],
   "source": [
    "songs = pd.read_csv(\"songs.csv\", sep=\";\")\n",
    "songs.head(10)"
   ]
  },
  {
   "attachments": {},
   "cell_type": "markdown",
   "metadata": {},
   "source": [
    "Si noti che i record del dataset sono già ordinati per popolarità decrescente.\n",
    "\n",
    "Notare inoltre come sia stato usato un indice numerico generato automaticamente da pandas, poiché nessun insieme di attributi può costituire una chiave primaria in questo dataset: il titolo non può esserlo perché due canzoni diverse possono ovviamente condividere lo stesso titolo, ma anche la coppia (titolo, artista) non funziona in quanto una canzone può essere rilasciata più volte (in linea teorica anche durante lo stesso anno, per quanto molto improbabile, e quindi aggiungere l'anno non aiuta).\n",
    "\n",
    "Questa è la descrizione del significato delle variabili data dal creatore del dataset:\n",
    "- Genre - the genre of the track\n",
    "- Year - the release year of the recording. Note that due to vagaries of releases, re-releases, re-issues and general madness, sometimes the release years are not what you'd expect.\n",
    "- Added - the earliest date you added the track to your collection.\n",
    "- Beats Per Minute (BPM) - The tempo of the song.\n",
    "- Energy - The energy of a song - the higher the value, the more energtic. song\n",
    "- Danceability - The higher the value, the easier it is to dance to this song.\n",
    "- Loudness (dB) - The higher the value, the louder the song.\n",
    "- Liveness - The higher the value, the more likely the song is a live recording.\n",
    "- Valence - The higher the value, the more positive mood for the song.\n",
    "- Length - The duration of the song.\n",
    "- Acousticness - The higher the value the more acoustic the song is.\n",
    "- Speechiness - The higher the value the more spoken word the song contains.\n",
    "- Popularity - The higher the value the more popular the song *currently* is.\n",
    "- Duration - The length of the song.\n",
    "\n",
    "Si faccia riferimento all'indirizzo http://organizeyourmusic.playlistmachinery.com/ per maggiori informazioni."
   ]
  },
  {
   "attachments": {},
   "cell_type": "markdown",
   "metadata": {},
   "source": [
    "Nel nome delle colonne *speechiness* e *danceability* è presente uno spazio di troppo, che va rimosso."
   ]
  },
  {
   "cell_type": "code",
   "execution_count": 73,
   "metadata": {},
   "outputs": [],
   "source": [
    "songs.columns = songs.columns.str.replace('speechiness ', 'speechiness').str.replace('danceability ', 'danceability')"
   ]
  },
  {
   "cell_type": "code",
   "execution_count": 127,
   "metadata": {},
   "outputs": [
    {
     "data": {
      "text/html": [
       "<div>\n",
       "<style scoped>\n",
       "    .dataframe tbody tr th:only-of-type {\n",
       "        vertical-align: middle;\n",
       "    }\n",
       "\n",
       "    .dataframe tbody tr th {\n",
       "        vertical-align: top;\n",
       "    }\n",
       "\n",
       "    .dataframe thead th {\n",
       "        text-align: right;\n",
       "    }\n",
       "</style>\n",
       "<table border=\"1\" class=\"dataframe\">\n",
       "  <thead>\n",
       "    <tr style=\"text-align: right;\">\n",
       "      <th></th>\n",
       "      <th>title</th>\n",
       "      <th>artist</th>\n",
       "      <th>year</th>\n",
       "      <th>bpm</th>\n",
       "      <th>energy</th>\n",
       "      <th>danceability</th>\n",
       "      <th>liveness</th>\n",
       "      <th>valence</th>\n",
       "      <th>duration</th>\n",
       "      <th>acousticness</th>\n",
       "      <th>...</th>\n",
       "      <th>hip-hop</th>\n",
       "      <th>indie</th>\n",
       "      <th>jazz</th>\n",
       "      <th>latin</th>\n",
       "      <th>metal</th>\n",
       "      <th>other</th>\n",
       "      <th>pop</th>\n",
       "      <th>rock</th>\n",
       "      <th>singer-songwriter</th>\n",
       "      <th>soul</th>\n",
       "    </tr>\n",
       "  </thead>\n",
       "  <tbody>\n",
       "    <tr>\n",
       "      <th>1</th>\n",
       "      <td>Cupid - Twin Ver.</td>\n",
       "      <td>FIFTY FIFTY</td>\n",
       "      <td>0</td>\n",
       "      <td>120</td>\n",
       "      <td>0</td>\n",
       "      <td>3</td>\n",
       "      <td>3</td>\n",
       "      <td>3</td>\n",
       "      <td>174</td>\n",
       "      <td>3</td>\n",
       "      <td>...</td>\n",
       "      <td>0.0</td>\n",
       "      <td>0.0</td>\n",
       "      <td>0.0</td>\n",
       "      <td>0.0</td>\n",
       "      <td>0.0</td>\n",
       "      <td>0.0</td>\n",
       "      <td>1.0</td>\n",
       "      <td>0.0</td>\n",
       "      <td>0.0</td>\n",
       "      <td>0.0</td>\n",
       "    </tr>\n",
       "    <tr>\n",
       "      <th>5</th>\n",
       "      <td>Daylight</td>\n",
       "      <td>David Kushner</td>\n",
       "      <td>0</td>\n",
       "      <td>130</td>\n",
       "      <td>0</td>\n",
       "      <td>0</td>\n",
       "      <td>1</td>\n",
       "      <td>0</td>\n",
       "      <td>213</td>\n",
       "      <td>3</td>\n",
       "      <td>...</td>\n",
       "      <td>0.0</td>\n",
       "      <td>0.0</td>\n",
       "      <td>0.0</td>\n",
       "      <td>0.0</td>\n",
       "      <td>0.0</td>\n",
       "      <td>0.0</td>\n",
       "      <td>0.0</td>\n",
       "      <td>0.0</td>\n",
       "      <td>1.0</td>\n",
       "      <td>0.0</td>\n",
       "    </tr>\n",
       "    <tr>\n",
       "      <th>9</th>\n",
       "      <td>Here With Me</td>\n",
       "      <td>d4vd</td>\n",
       "      <td>1</td>\n",
       "      <td>132</td>\n",
       "      <td>0</td>\n",
       "      <td>0</td>\n",
       "      <td>2</td>\n",
       "      <td>0</td>\n",
       "      <td>242</td>\n",
       "      <td>3</td>\n",
       "      <td>...</td>\n",
       "      <td>0.0</td>\n",
       "      <td>0.0</td>\n",
       "      <td>0.0</td>\n",
       "      <td>0.0</td>\n",
       "      <td>0.0</td>\n",
       "      <td>0.0</td>\n",
       "      <td>1.0</td>\n",
       "      <td>0.0</td>\n",
       "      <td>0.0</td>\n",
       "      <td>0.0</td>\n",
       "    </tr>\n",
       "    <tr>\n",
       "      <th>10</th>\n",
       "      <td>I'm Good (Blue)</td>\n",
       "      <td>David Guetta</td>\n",
       "      <td>1</td>\n",
       "      <td>128</td>\n",
       "      <td>3</td>\n",
       "      <td>0</td>\n",
       "      <td>3</td>\n",
       "      <td>0</td>\n",
       "      <td>175</td>\n",
       "      <td>NaN</td>\n",
       "      <td>...</td>\n",
       "      <td>0.0</td>\n",
       "      <td>0.0</td>\n",
       "      <td>0.0</td>\n",
       "      <td>0.0</td>\n",
       "      <td>0.0</td>\n",
       "      <td>1.0</td>\n",
       "      <td>0.0</td>\n",
       "      <td>0.0</td>\n",
       "      <td>0.0</td>\n",
       "      <td>0.0</td>\n",
       "    </tr>\n",
       "    <tr>\n",
       "      <th>16</th>\n",
       "      <td>Until I Found You (with Em Beihold) - Em Beiho...</td>\n",
       "      <td>Stephen Sanchez</td>\n",
       "      <td>1</td>\n",
       "      <td>101</td>\n",
       "      <td>0</td>\n",
       "      <td>0</td>\n",
       "      <td>2</td>\n",
       "      <td>0</td>\n",
       "      <td>176</td>\n",
       "      <td>3</td>\n",
       "      <td>...</td>\n",
       "      <td>0.0</td>\n",
       "      <td>0.0</td>\n",
       "      <td>0.0</td>\n",
       "      <td>0.0</td>\n",
       "      <td>0.0</td>\n",
       "      <td>0.0</td>\n",
       "      <td>0.0</td>\n",
       "      <td>0.0</td>\n",
       "      <td>1.0</td>\n",
       "      <td>0.0</td>\n",
       "    </tr>\n",
       "    <tr>\n",
       "      <th>...</th>\n",
       "      <td>...</td>\n",
       "      <td>...</td>\n",
       "      <td>...</td>\n",
       "      <td>...</td>\n",
       "      <td>...</td>\n",
       "      <td>...</td>\n",
       "      <td>...</td>\n",
       "      <td>...</td>\n",
       "      <td>...</td>\n",
       "      <td>...</td>\n",
       "      <td>...</td>\n",
       "      <td>...</td>\n",
       "      <td>...</td>\n",
       "      <td>...</td>\n",
       "      <td>...</td>\n",
       "      <td>...</td>\n",
       "      <td>...</td>\n",
       "      <td>...</td>\n",
       "      <td>...</td>\n",
       "      <td>...</td>\n",
       "      <td>...</td>\n",
       "    </tr>\n",
       "    <tr>\n",
       "      <th>2349</th>\n",
       "      <td>Lips Of An Angel</td>\n",
       "      <td>Hinder</td>\n",
       "      <td>4</td>\n",
       "      <td>129</td>\n",
       "      <td>2</td>\n",
       "      <td>0</td>\n",
       "      <td>3</td>\n",
       "      <td>0</td>\n",
       "      <td>261</td>\n",
       "      <td>0</td>\n",
       "      <td>...</td>\n",
       "      <td>0.0</td>\n",
       "      <td>0.0</td>\n",
       "      <td>0.0</td>\n",
       "      <td>0.0</td>\n",
       "      <td>1.0</td>\n",
       "      <td>0.0</td>\n",
       "      <td>0.0</td>\n",
       "      <td>0.0</td>\n",
       "      <td>0.0</td>\n",
       "      <td>0.0</td>\n",
       "    </tr>\n",
       "    <tr>\n",
       "      <th>2353</th>\n",
       "      <td>Under the Bridge</td>\n",
       "      <td>Project North</td>\n",
       "      <td>4</td>\n",
       "      <td>155</td>\n",
       "      <td>0</td>\n",
       "      <td>0</td>\n",
       "      <td>3</td>\n",
       "      <td>0</td>\n",
       "      <td>248</td>\n",
       "      <td>3</td>\n",
       "      <td>...</td>\n",
       "      <td>0.0</td>\n",
       "      <td>0.0</td>\n",
       "      <td>0.0</td>\n",
       "      <td>0.0</td>\n",
       "      <td>0.0</td>\n",
       "      <td>0.0</td>\n",
       "      <td>0.0</td>\n",
       "      <td>1.0</td>\n",
       "      <td>0.0</td>\n",
       "      <td>0.0</td>\n",
       "    </tr>\n",
       "    <tr>\n",
       "      <th>2373</th>\n",
       "      <td>Lost Souls</td>\n",
       "      <td>KJ Hand</td>\n",
       "      <td>1</td>\n",
       "      <td>127</td>\n",
       "      <td>0</td>\n",
       "      <td>0</td>\n",
       "      <td>1</td>\n",
       "      <td>0</td>\n",
       "      <td>227</td>\n",
       "      <td>3</td>\n",
       "      <td>...</td>\n",
       "      <td>0.0</td>\n",
       "      <td>1.0</td>\n",
       "      <td>0.0</td>\n",
       "      <td>0.0</td>\n",
       "      <td>0.0</td>\n",
       "      <td>0.0</td>\n",
       "      <td>0.0</td>\n",
       "      <td>0.0</td>\n",
       "      <td>0.0</td>\n",
       "      <td>0.0</td>\n",
       "    </tr>\n",
       "    <tr>\n",
       "      <th>2375</th>\n",
       "      <td>NOT AFRAID</td>\n",
       "      <td>Kodiro</td>\n",
       "      <td>1</td>\n",
       "      <td>80</td>\n",
       "      <td>0</td>\n",
       "      <td>2</td>\n",
       "      <td>1</td>\n",
       "      <td>1</td>\n",
       "      <td>180</td>\n",
       "      <td>1</td>\n",
       "      <td>...</td>\n",
       "      <td>1.0</td>\n",
       "      <td>0.0</td>\n",
       "      <td>0.0</td>\n",
       "      <td>0.0</td>\n",
       "      <td>0.0</td>\n",
       "      <td>0.0</td>\n",
       "      <td>0.0</td>\n",
       "      <td>0.0</td>\n",
       "      <td>0.0</td>\n",
       "      <td>0.0</td>\n",
       "    </tr>\n",
       "    <tr>\n",
       "      <th>2379</th>\n",
       "      <td>Como Saber</td>\n",
       "      <td>Marta Delas</td>\n",
       "      <td>0</td>\n",
       "      <td>128</td>\n",
       "      <td>3</td>\n",
       "      <td>1</td>\n",
       "      <td>3</td>\n",
       "      <td>3</td>\n",
       "      <td>180</td>\n",
       "      <td>0</td>\n",
       "      <td>...</td>\n",
       "      <td>0.0</td>\n",
       "      <td>0.0</td>\n",
       "      <td>0.0</td>\n",
       "      <td>0.0</td>\n",
       "      <td>0.0</td>\n",
       "      <td>0.0</td>\n",
       "      <td>0.0</td>\n",
       "      <td>0.0</td>\n",
       "      <td>0.0</td>\n",
       "      <td>0.0</td>\n",
       "    </tr>\n",
       "  </tbody>\n",
       "</table>\n",
       "<p>433 rows × 24 columns</p>\n",
       "</div>"
      ],
      "text/plain": [
       "                                                  title           artist  \\\n",
       "1                                     Cupid - Twin Ver.      FIFTY FIFTY   \n",
       "5                                              Daylight    David Kushner   \n",
       "9                                          Here With Me             d4vd   \n",
       "10                                      I'm Good (Blue)     David Guetta   \n",
       "16    Until I Found You (with Em Beihold) - Em Beiho...  Stephen Sanchez   \n",
       "...                                                 ...              ...   \n",
       "2349                                   Lips Of An Angel           Hinder   \n",
       "2353                                   Under the Bridge    Project North   \n",
       "2373                                         Lost Souls          KJ Hand   \n",
       "2375                                         NOT AFRAID           Kodiro   \n",
       "2379                                         Como Saber      Marta Delas   \n",
       "\n",
       "      year  bpm energy danceability liveness valence  duration acousticness  \\\n",
       "1        0  120      0            3        3       3       174            3   \n",
       "5        0  130      0            0        1       0       213            3   \n",
       "9        1  132      0            0        2       0       242            3   \n",
       "10       1  128      3            0        3       0       175          NaN   \n",
       "16       1  101      0            0        2       0       176            3   \n",
       "...    ...  ...    ...          ...      ...     ...       ...          ...   \n",
       "2349     4  129      2            0        3       0       261            0   \n",
       "2353     4  155      0            0        3       0       248            3   \n",
       "2373     1  127      0            0        1       0       227            3   \n",
       "2375     1   80      0            2        1       1       180            1   \n",
       "2379     0  128      3            1        3       3       180            0   \n",
       "\n",
       "      ... hip-hop indie  jazz  latin  metal  other  pop  rock  \\\n",
       "1     ...     0.0   0.0   0.0    0.0    0.0    0.0  1.0   0.0   \n",
       "5     ...     0.0   0.0   0.0    0.0    0.0    0.0  0.0   0.0   \n",
       "9     ...     0.0   0.0   0.0    0.0    0.0    0.0  1.0   0.0   \n",
       "10    ...     0.0   0.0   0.0    0.0    0.0    1.0  0.0   0.0   \n",
       "16    ...     0.0   0.0   0.0    0.0    0.0    0.0  0.0   0.0   \n",
       "...   ...     ...   ...   ...    ...    ...    ...  ...   ...   \n",
       "2349  ...     0.0   0.0   0.0    0.0    1.0    0.0  0.0   0.0   \n",
       "2353  ...     0.0   0.0   0.0    0.0    0.0    0.0  0.0   1.0   \n",
       "2373  ...     0.0   1.0   0.0    0.0    0.0    0.0  0.0   0.0   \n",
       "2375  ...     1.0   0.0   0.0    0.0    0.0    0.0  0.0   0.0   \n",
       "2379  ...     0.0   0.0   0.0    0.0    0.0    0.0  0.0   0.0   \n",
       "\n",
       "      singer-songwriter  soul  \n",
       "1                   0.0   0.0  \n",
       "5                   1.0   0.0  \n",
       "9                   0.0   0.0  \n",
       "10                  0.0   0.0  \n",
       "16                  1.0   0.0  \n",
       "...                 ...   ...  \n",
       "2349                0.0   0.0  \n",
       "2353                0.0   0.0  \n",
       "2373                0.0   0.0  \n",
       "2375                0.0   0.0  \n",
       "2379                0.0   0.0  \n",
       "\n",
       "[433 rows x 24 columns]"
      ]
     },
     "execution_count": 127,
     "metadata": {},
     "output_type": "execute_result"
    }
   ],
   "source": [
    "songs[songs[\"speechiness\"] == 0]"
   ]
  },
  {
   "attachments": {},
   "cell_type": "markdown",
   "metadata": {},
   "source": [
    "### Analisi esplorativa"
   ]
  },
  {
   "cell_type": "code",
   "execution_count": null,
   "metadata": {},
   "outputs": [
    {
     "name": "stdout",
     "output_type": "stream",
     "text": [
      "popularity      1.000000\n",
      "year            0.205909\n",
      "energy          0.120484\n",
      "acousticness    0.100588\n",
      "duration        0.095590\n",
      "valence         0.086720\n",
      "speechiness     0.072670\n",
      "bpm             0.019961\n",
      "danceability    0.019491\n",
      "liveness        0.019009\n",
      "dB              0.004715\n",
      "Name: popularity, dtype: float64\n"
     ]
    }
   ],
   "source": [
    "corr = songs.corr(numeric_only=True)\n",
    "print(abs(corr[\"popularity\"]).sort_values(ascending=False))"
   ]
  },
  {
   "attachments": {},
   "cell_type": "markdown",
   "metadata": {},
   "source": [
    "Dividiamo il dataset in variabili testuali e numeriche per effettuare una ricerca corretta."
   ]
  },
  {
   "cell_type": "code",
   "execution_count": null,
   "metadata": {},
   "outputs": [],
   "source": [
    "string_columns = songs.select_dtypes(include=[\"object\"]).columns\n",
    "numeric_columns = songs.select_dtypes(include=[\"number\"]).columns"
   ]
  },
  {
   "attachments": {},
   "cell_type": "markdown",
   "metadata": {},
   "source": [
    "Mostriamo una bellissima scatter matrix."
   ]
  },
  {
   "cell_type": "code",
   "execution_count": null,
   "metadata": {},
   "outputs": [],
   "source": [
    "from pandas.plotting import scatter_matrix\n",
    "\n",
    "scatter_matrix(songs[numeric_columns], figsize=(20, 20));"
   ]
  },
  {
   "attachments": {},
   "cell_type": "markdown",
   "metadata": {},
   "source": [
    "Mostriamo un altro bellissimo grafico."
   ]
  },
  {
   "cell_type": "code",
   "execution_count": null,
   "metadata": {},
   "outputs": [],
   "source": [
    "corr = songs.corr()\n",
    "plt.figure(figsize=(20, 20))\n",
    "plt.matshow(corr)\n",
    "plt.xticks(range(len(corr.columns)), corr.columns, rotation=90)\n",
    "plt.yticks(range(len(corr.columns)), corr.columns)\n",
    "plt.colorbar()\n",
    "plt.show()"
   ]
  },
  {
   "attachments": {},
   "cell_type": "markdown",
   "metadata": {},
   "source": [
    "### Integrazione del dataset con altre fonti"
   ]
  },
  {
   "attachments": {},
   "cell_type": "markdown",
   "metadata": {},
   "source": [
    "#### NLP"
   ]
  },
  {
   "attachments": {},
   "cell_type": "markdown",
   "metadata": {},
   "source": [
    "Si è ritenuto necessario aggiungere al dataset una colonna contenente i vari testi delle canzoni, il cui contenuto, opportunamente processato con tecniche di Natural Language Processing, può essere di grande aiuto per predire la popolarità di una canzone.\n",
    "Si è dunque fatto uso della libreria *lyricsgenius*, che tramite l'API del sito https://genius.com/ permette di scaricare il testo di una canzone dato il titolo e l'autore.\n",
    "\n",
    "Di seguito è possibile trovare il codice (commentato) che esegue questa operazione. Si noti tuttavia che può richiedere molto tempo (almeno un'ora) per essere eseguito, in quanto le richieste vanno spesso in timeout. Non è necessario eseguire le celle seguenti, in quanto i testi sono già stati scaricati e si trovano nel file *songs_lyrics.csv*. "
   ]
  },
  {
   "cell_type": "code",
   "execution_count": 74,
   "metadata": {},
   "outputs": [],
   "source": [
    "#%pip install lyricsgenius\n",
    "#import lyricsgenius as lg"
   ]
  },
  {
   "cell_type": "code",
   "execution_count": 75,
   "metadata": {},
   "outputs": [],
   "source": [
    "#import csv\n",
    "\n",
    "#access_token = '8yvpmDv96aodI5vg660Afcby4XPdrhPrx4JCAM3souNcRYG9C2nF5TWg1'\n",
    "#genius = lg.Genius(access_token)\n",
    "\n",
    "#def get_lyrics(song_title, artist_name):\n",
    "#    song = genius.search_song(song_title, artist_name)\n",
    "#    return song.lyrics if song is not None else \"\"\n",
    "\n",
    "#songs = pd.read_csv(\"songs.csv\", sep=\";\")\n",
    "\n",
    "#with open(\"songs_lyrics.csv\", \"a\", newline=\"\", encoding=\"utf-8\") as csv_file:\n",
    "#    writer = csv.writer(csv_file, delimiter=\"|\")\n",
    "#    writer.writerow([\"title\", \"artist\", \"lyrics\"])\n",
    "#    for _, song in songs.iterrows():\n",
    "#        is_ok = False\n",
    "#        while not is_ok:\n",
    "#           try:\n",
    "#                lyrics = get_lyrics(song.title, song.artist)\n",
    "#                is_ok = True\n",
    "#                writer.writerow([song.title, song.artist, lyrics])\n",
    "#            except Exception as e:\n",
    "#                continue"
   ]
  },
  {
   "attachments": {},
   "cell_type": "markdown",
   "metadata": {},
   "source": [
    "Carichiamo e mostriamo il nuovo dataset contenente le _lyrics_ delle canzoni."
   ]
  },
  {
   "cell_type": "code",
   "execution_count": 76,
   "metadata": {},
   "outputs": [
    {
     "data": {
      "text/html": [
       "<div>\n",
       "<style scoped>\n",
       "    .dataframe tbody tr th:only-of-type {\n",
       "        vertical-align: middle;\n",
       "    }\n",
       "\n",
       "    .dataframe tbody tr th {\n",
       "        vertical-align: top;\n",
       "    }\n",
       "\n",
       "    .dataframe thead th {\n",
       "        text-align: right;\n",
       "    }\n",
       "</style>\n",
       "<table border=\"1\" class=\"dataframe\">\n",
       "  <thead>\n",
       "    <tr style=\"text-align: right;\">\n",
       "      <th></th>\n",
       "      <th>title</th>\n",
       "      <th>artist</th>\n",
       "      <th>lyrics</th>\n",
       "    </tr>\n",
       "  </thead>\n",
       "  <tbody>\n",
       "    <tr>\n",
       "      <th>0</th>\n",
       "      <td>Flowers</td>\n",
       "      <td>Miley Cyrus</td>\n",
       "      <td>88 ContributorsTranslationsEspañolPortuguêsKis...</td>\n",
       "    </tr>\n",
       "    <tr>\n",
       "      <th>1</th>\n",
       "      <td>Cupid - Twin Ver.</td>\n",
       "      <td>FIFTY FIFTY</td>\n",
       "      <td>1 ContributorTranslationsEnglishBahasa MelayuF...</td>\n",
       "    </tr>\n",
       "    <tr>\n",
       "      <th>2</th>\n",
       "      <td>BESO</td>\n",
       "      <td>ROSALÍA</td>\n",
       "      <td>29 ContributorsTranslationsPortuguêsEnglishDeu...</td>\n",
       "    </tr>\n",
       "    <tr>\n",
       "      <th>3</th>\n",
       "      <td>Boy's a liar Pt. 2</td>\n",
       "      <td>PinkPantheress</td>\n",
       "      <td>92 ContributorsTranslationsPortuguêsTürkçeDeut...</td>\n",
       "    </tr>\n",
       "    <tr>\n",
       "      <th>4</th>\n",
       "      <td>Creepin' (with The Weeknd &amp; 21 Savage)</td>\n",
       "      <td>Metro Boomin</td>\n",
       "      <td>2 ContributorsNew Music Friday 12/02/22 Lyrics...</td>\n",
       "    </tr>\n",
       "    <tr>\n",
       "      <th>...</th>\n",
       "      <td>...</td>\n",
       "      <td>...</td>\n",
       "      <td>...</td>\n",
       "    </tr>\n",
       "    <tr>\n",
       "      <th>2380</th>\n",
       "      <td>Southbound</td>\n",
       "      <td>Beach Blvd</td>\n",
       "      <td>2 ContributorsMe &amp; My Skate Lyrics[Skit]\\nOh s...</td>\n",
       "    </tr>\n",
       "    <tr>\n",
       "      <th>2381</th>\n",
       "      <td>Dance with Somebody - Radio Version</td>\n",
       "      <td>Mando Diao</td>\n",
       "      <td>1 ContributorDance With Somebody - Radio Versi...</td>\n",
       "    </tr>\n",
       "    <tr>\n",
       "      <th>2382</th>\n",
       "      <td>Flow</td>\n",
       "      <td>Desire Machines</td>\n",
       "      <td>1 ContributorWhat Matters? Lyrics[Hook]\\nLeave...</td>\n",
       "    </tr>\n",
       "    <tr>\n",
       "      <th>2383</th>\n",
       "      <td>Scared of the Dark</td>\n",
       "      <td>Everything Brighter</td>\n",
       "      <td>1 ContributorWay Home LyricsYa Ya Ya\\n\\nI hear...</td>\n",
       "    </tr>\n",
       "    <tr>\n",
       "      <th>2384</th>\n",
       "      <td>Sorry</td>\n",
       "      <td>LEADR</td>\n",
       "      <td>5 ContributorsI&amp;I Lyrics[Intro]\\nSelah\\nKnow w...</td>\n",
       "    </tr>\n",
       "  </tbody>\n",
       "</table>\n",
       "<p>2385 rows × 3 columns</p>\n",
       "</div>"
      ],
      "text/plain": [
       "                                       title               artist  \\\n",
       "0                                    Flowers          Miley Cyrus   \n",
       "1                          Cupid - Twin Ver.          FIFTY FIFTY   \n",
       "2                                       BESO              ROSALÍA   \n",
       "3                         Boy's a liar Pt. 2       PinkPantheress   \n",
       "4     Creepin' (with The Weeknd & 21 Savage)         Metro Boomin   \n",
       "...                                      ...                  ...   \n",
       "2380                              Southbound           Beach Blvd   \n",
       "2381     Dance with Somebody - Radio Version           Mando Diao   \n",
       "2382                                    Flow      Desire Machines   \n",
       "2383                      Scared of the Dark  Everything Brighter   \n",
       "2384                                   Sorry                LEADR   \n",
       "\n",
       "                                                 lyrics  \n",
       "0     88 ContributorsTranslationsEspañolPortuguêsKis...  \n",
       "1     1 ContributorTranslationsEnglishBahasa MelayuF...  \n",
       "2     29 ContributorsTranslationsPortuguêsEnglishDeu...  \n",
       "3     92 ContributorsTranslationsPortuguêsTürkçeDeut...  \n",
       "4     2 ContributorsNew Music Friday 12/02/22 Lyrics...  \n",
       "...                                                 ...  \n",
       "2380  2 ContributorsMe & My Skate Lyrics[Skit]\\nOh s...  \n",
       "2381  1 ContributorDance With Somebody - Radio Versi...  \n",
       "2382  1 ContributorWhat Matters? Lyrics[Hook]\\nLeave...  \n",
       "2383  1 ContributorWay Home LyricsYa Ya Ya\\n\\nI hear...  \n",
       "2384  5 ContributorsI&I Lyrics[Intro]\\nSelah\\nKnow w...  \n",
       "\n",
       "[2385 rows x 3 columns]"
      ]
     },
     "execution_count": 76,
     "metadata": {},
     "output_type": "execute_result"
    }
   ],
   "source": [
    "lyrics = pd.read_csv(\"songs_lyrics.csv\", sep=\"|\", na_values={\"\": None}, keep_default_na=False)\n",
    "lyrics"
   ]
  },
  {
   "attachments": {},
   "cell_type": "markdown",
   "metadata": {},
   "source": [
    "Per alcune canzoni, l'API di Genius non fornisce alcun testo."
   ]
  },
  {
   "cell_type": "code",
   "execution_count": 77,
   "metadata": {},
   "outputs": [
    {
     "data": {
      "text/html": [
       "<div>\n",
       "<style scoped>\n",
       "    .dataframe tbody tr th:only-of-type {\n",
       "        vertical-align: middle;\n",
       "    }\n",
       "\n",
       "    .dataframe tbody tr th {\n",
       "        vertical-align: top;\n",
       "    }\n",
       "\n",
       "    .dataframe thead th {\n",
       "        text-align: right;\n",
       "    }\n",
       "</style>\n",
       "<table border=\"1\" class=\"dataframe\">\n",
       "  <thead>\n",
       "    <tr style=\"text-align: right;\">\n",
       "      <th></th>\n",
       "      <th>title</th>\n",
       "      <th>artist</th>\n",
       "      <th>lyrics</th>\n",
       "    </tr>\n",
       "  </thead>\n",
       "  <tbody>\n",
       "    <tr>\n",
       "      <th>16</th>\n",
       "      <td>Until I Found You (with Em Beihold) - Em Beiho...</td>\n",
       "      <td>Stephen Sanchez</td>\n",
       "      <td></td>\n",
       "    </tr>\n",
       "    <tr>\n",
       "      <th>317</th>\n",
       "      <td>Happy - From \"Despicable Me 2\"</td>\n",
       "      <td>Pharrell Williams</td>\n",
       "      <td></td>\n",
       "    </tr>\n",
       "    <tr>\n",
       "      <th>339</th>\n",
       "      <td>Moves Like Jagger - Studio Recording From \"The...</td>\n",
       "      <td>Maroon 5</td>\n",
       "      <td></td>\n",
       "    </tr>\n",
       "    <tr>\n",
       "      <th>446</th>\n",
       "      <td>CAN'T STOP THE FEELING! (from DreamWorks Anima...</td>\n",
       "      <td>Justin Timberlake</td>\n",
       "      <td></td>\n",
       "    </tr>\n",
       "    <tr>\n",
       "      <th>684</th>\n",
       "      <td>Valerie (feat. Amy Winehouse) - Version Revisited</td>\n",
       "      <td>Mark Ronson</td>\n",
       "      <td></td>\n",
       "    </tr>\n",
       "    <tr>\n",
       "      <th>686</th>\n",
       "      <td>Waka Waka (This Time for Africa) [The Official...</td>\n",
       "      <td>Shakira</td>\n",
       "      <td></td>\n",
       "    </tr>\n",
       "    <tr>\n",
       "      <th>905</th>\n",
       "      <td>Free Fallin' - Live at the Nokia Theatre Los A...</td>\n",
       "      <td>John Mayer</td>\n",
       "      <td></td>\n",
       "    </tr>\n",
       "    <tr>\n",
       "      <th>912</th>\n",
       "      <td>Intro</td>\n",
       "      <td>The xx</td>\n",
       "      <td></td>\n",
       "    </tr>\n",
       "    <tr>\n",
       "      <th>947</th>\n",
       "      <td>Summertime Sadness (Lana Del Rey Vs. Cedric Ge...</td>\n",
       "      <td>Lana Del Rey</td>\n",
       "      <td></td>\n",
       "    </tr>\n",
       "    <tr>\n",
       "      <th>1086</th>\n",
       "      <td>Jenny from the Block (feat. Jadakiss &amp; Styles ...</td>\n",
       "      <td>Jennifer Lopez</td>\n",
       "      <td></td>\n",
       "    </tr>\n",
       "  </tbody>\n",
       "</table>\n",
       "</div>"
      ],
      "text/plain": [
       "                                                  title             artist  \\\n",
       "16    Until I Found You (with Em Beihold) - Em Beiho...    Stephen Sanchez   \n",
       "317                      Happy - From \"Despicable Me 2\"  Pharrell Williams   \n",
       "339   Moves Like Jagger - Studio Recording From \"The...           Maroon 5   \n",
       "446   CAN'T STOP THE FEELING! (from DreamWorks Anima...  Justin Timberlake   \n",
       "684   Valerie (feat. Amy Winehouse) - Version Revisited        Mark Ronson   \n",
       "686   Waka Waka (This Time for Africa) [The Official...            Shakira   \n",
       "905   Free Fallin' - Live at the Nokia Theatre Los A...         John Mayer   \n",
       "912                                               Intro             The xx   \n",
       "947   Summertime Sadness (Lana Del Rey Vs. Cedric Ge...       Lana Del Rey   \n",
       "1086  Jenny from the Block (feat. Jadakiss & Styles ...     Jennifer Lopez   \n",
       "\n",
       "     lyrics  \n",
       "16           \n",
       "317          \n",
       "339          \n",
       "446          \n",
       "684          \n",
       "686          \n",
       "905          \n",
       "912          \n",
       "947          \n",
       "1086         "
      ]
     },
     "execution_count": 77,
     "metadata": {},
     "output_type": "execute_result"
    }
   ],
   "source": [
    "lyrics[lyrics[\"lyrics\"] == ''][:10]"
   ]
  },
  {
   "attachments": {},
   "cell_type": "markdown",
   "metadata": {},
   "source": [
    "In generale, i testi scaricati sono \"sporchi\", cioè contengono messaggi da parte dell'API che però non fanno parte del testo della canzone. "
   ]
  },
  {
   "cell_type": "code",
   "execution_count": 78,
   "metadata": {},
   "outputs": [
    {
     "data": {
      "text/plain": [
       "\"88 ContributorsTranslationsEspañolPortuguêsKiswahiliDeutschItalianoСрпскиNederlandsSvenskaPolskiTürkçeΕλληνικάFrançaisDanskРусскийالعربيةУкраїнськаBahasa IndonesiaFlowers Lyrics[Verse 1]\\nWe were good, we were gold\\nKinda dream that can't be sold\\nWe were right 'til we weren't\\nBuilt a home and watched it burn\\n\\n[Pre-Chorus]\\nMm, I didn't wanna leave you, I didn't wanna lie\\nStarted to cry, but then remembered I\\n\\n[Chorus]\\nI can buy myself flowers\\nWrite my name in the sand\\nTalk to myself for hours\\nSay things you don't understand\\nI can take myself dancing\\nAnd I can hold my own hand\\nYeah, I can love me better than you can\\n\\n[Post-Chorus]\\nCan love me better, I can love me better, baby\\nCan love me better, I can love me better, baby\\n\\n[Verse 2]\\nPaint my nails cherry-red\\nMatch the roses that you left\\nNo remorse, no regret\\nI forgive every word you said\\nYou might also like[Pre-Chorus]\\nOoh, I didn't wanna leave you, baby, I didn't wanna fight\\nStarted to cry, but then remembered I\\n\\n[Chorus]\\nI can buy myself flowers\\nWrite my name in the sand\\nTalk to myself for hours, yeah\\nSay things you don't understand\\nI can take myself dancing, yeah\\nI can hold my own hand\\nYeah, I can love me better than you can\\n\\n[Post-Chorus]\\nCan love me better, I can love me better, baby\\nCan love me better, I can love me better, baby\\nCan love me better, I can love me better, baby\\nCan love me better, I (Ooh, I)\\n\\n[Bridge]\\nI didn't wanna leave you, I didn't wanna fight\\nStarted to cry, but then remembered I\\n\\n[Chorus]\\nI can buy myself flowers (Uh-huh)\\nWrite my name in the sand\\nTalk to myself for hours (Yeah)\\nSay things you don't understand (You never will)\\nI can take myself dancing, yeah\\nI can hold my own hand\\nYeah, I can love me better than\\nYeah, I can love me better than you can\\n[Post-Chorus]\\nCan love me better, I can love me better, baby (Uh)\\nCan love me better, I can love me better, baby (Than you can)\\nCan love me better, I can love me better, baby\\nCan love me better, I33Embed\""
      ]
     },
     "execution_count": 78,
     "metadata": {},
     "output_type": "execute_result"
    }
   ],
   "source": [
    "lyrics[\"lyrics\"][0]"
   ]
  },
  {
   "attachments": {},
   "cell_type": "markdown",
   "metadata": {},
   "source": [
    "Il codice seguente permette di effettuare la pulizia dei testi."
   ]
  },
  {
   "cell_type": "code",
   "execution_count": 79,
   "metadata": {},
   "outputs": [],
   "source": [
    "def clear_lyrics(text):\n",
    "    return text.split(\"Lyrics\")[1].split(\"Embed\")[0] if text != '' and text.count(\" - \") < 10 else ''"
   ]
  },
  {
   "cell_type": "code",
   "execution_count": 80,
   "metadata": {},
   "outputs": [
    {
     "data": {
      "text/html": [
       "<div>\n",
       "<style scoped>\n",
       "    .dataframe tbody tr th:only-of-type {\n",
       "        vertical-align: middle;\n",
       "    }\n",
       "\n",
       "    .dataframe tbody tr th {\n",
       "        vertical-align: top;\n",
       "    }\n",
       "\n",
       "    .dataframe thead th {\n",
       "        text-align: right;\n",
       "    }\n",
       "</style>\n",
       "<table border=\"1\" class=\"dataframe\">\n",
       "  <thead>\n",
       "    <tr style=\"text-align: right;\">\n",
       "      <th></th>\n",
       "      <th>title</th>\n",
       "      <th>artist</th>\n",
       "      <th>lyrics</th>\n",
       "    </tr>\n",
       "  </thead>\n",
       "  <tbody>\n",
       "    <tr>\n",
       "      <th>0</th>\n",
       "      <td>Flowers</td>\n",
       "      <td>Miley Cyrus</td>\n",
       "      <td>[Verse 1]\\nWe were good, we were gold\\nKinda d...</td>\n",
       "    </tr>\n",
       "    <tr>\n",
       "      <th>1</th>\n",
       "      <td>Cupid - Twin Ver.</td>\n",
       "      <td>FIFTY FIFTY</td>\n",
       "      <td>[Intro: Aran]\\nLa, la, la, la-la-la\\nLa, la-la...</td>\n",
       "    </tr>\n",
       "    <tr>\n",
       "      <th>2</th>\n",
       "      <td>BESO</td>\n",
       "      <td>ROSALÍA</td>\n",
       "      <td>[Letra de \"BESO\"]\\n\\n[Coro: ROSALÍA]\\nYa yo ne...</td>\n",
       "    </tr>\n",
       "    <tr>\n",
       "      <th>3</th>\n",
       "      <td>Boy's a liar Pt. 2</td>\n",
       "      <td>PinkPantheress</td>\n",
       "      <td>[Verse 1: PinkPantheress]\\nTake a look inside ...</td>\n",
       "    </tr>\n",
       "    <tr>\n",
       "      <th>4</th>\n",
       "      <td>Creepin' (with The Weeknd &amp; 21 Savage)</td>\n",
       "      <td>Metro Boomin</td>\n",
       "      <td></td>\n",
       "    </tr>\n",
       "    <tr>\n",
       "      <th>...</th>\n",
       "      <td>...</td>\n",
       "      <td>...</td>\n",
       "      <td>...</td>\n",
       "    </tr>\n",
       "    <tr>\n",
       "      <th>2380</th>\n",
       "      <td>Southbound</td>\n",
       "      <td>Beach Blvd</td>\n",
       "      <td>[Skit]\\nOh shit God damn, I almost hit that li...</td>\n",
       "    </tr>\n",
       "    <tr>\n",
       "      <th>2381</th>\n",
       "      <td>Dance with Somebody - Radio Version</td>\n",
       "      <td>Mando Diao</td>\n",
       "      <td>Break your happy home\\nLearn to sing alone\\nTo...</td>\n",
       "    </tr>\n",
       "    <tr>\n",
       "      <th>2382</th>\n",
       "      <td>Flow</td>\n",
       "      <td>Desire Machines</td>\n",
       "      <td>[Hook]\\nLeave my home to chase what matters\\nB...</td>\n",
       "    </tr>\n",
       "    <tr>\n",
       "      <th>2383</th>\n",
       "      <td>Scared of the Dark</td>\n",
       "      <td>Everything Brighter</td>\n",
       "      <td>Ya Ya Ya\\n\\nI hear stuff in my basement\\n\\nI’m...</td>\n",
       "    </tr>\n",
       "    <tr>\n",
       "      <th>2384</th>\n",
       "      <td>Sorry</td>\n",
       "      <td>LEADR</td>\n",
       "      <td>[Intro]\\nSelah\\nKnow what they longing for (ye...</td>\n",
       "    </tr>\n",
       "  </tbody>\n",
       "</table>\n",
       "<p>2385 rows × 3 columns</p>\n",
       "</div>"
      ],
      "text/plain": [
       "                                       title               artist  \\\n",
       "0                                    Flowers          Miley Cyrus   \n",
       "1                          Cupid - Twin Ver.          FIFTY FIFTY   \n",
       "2                                       BESO              ROSALÍA   \n",
       "3                         Boy's a liar Pt. 2       PinkPantheress   \n",
       "4     Creepin' (with The Weeknd & 21 Savage)         Metro Boomin   \n",
       "...                                      ...                  ...   \n",
       "2380                              Southbound           Beach Blvd   \n",
       "2381     Dance with Somebody - Radio Version           Mando Diao   \n",
       "2382                                    Flow      Desire Machines   \n",
       "2383                      Scared of the Dark  Everything Brighter   \n",
       "2384                                   Sorry                LEADR   \n",
       "\n",
       "                                                 lyrics  \n",
       "0     [Verse 1]\\nWe were good, we were gold\\nKinda d...  \n",
       "1     [Intro: Aran]\\nLa, la, la, la-la-la\\nLa, la-la...  \n",
       "2     [Letra de \"BESO\"]\\n\\n[Coro: ROSALÍA]\\nYa yo ne...  \n",
       "3     [Verse 1: PinkPantheress]\\nTake a look inside ...  \n",
       "4                                                        \n",
       "...                                                 ...  \n",
       "2380  [Skit]\\nOh shit God damn, I almost hit that li...  \n",
       "2381  Break your happy home\\nLearn to sing alone\\nTo...  \n",
       "2382  [Hook]\\nLeave my home to chase what matters\\nB...  \n",
       "2383  Ya Ya Ya\\n\\nI hear stuff in my basement\\n\\nI’m...  \n",
       "2384  [Intro]\\nSelah\\nKnow what they longing for (ye...  \n",
       "\n",
       "[2385 rows x 3 columns]"
      ]
     },
     "execution_count": 80,
     "metadata": {},
     "output_type": "execute_result"
    }
   ],
   "source": [
    "lyrics[\"lyrics\"] = lyrics[\"lyrics\"].map(clear_lyrics)\n",
    "lyrics"
   ]
  },
  {
   "attachments": {},
   "cell_type": "markdown",
   "metadata": {},
   "source": [
    "#### Popolarità artisti su Spotify"
   ]
  },
  {
   "attachments": {},
   "cell_type": "markdown",
   "metadata": {},
   "source": [
    "Per trovare la popolarità di un determinato artista utilizziamo la web API fornita da Spotify. In più dobbiamo sfruttare una libreria fatta apposta per interfacciarsi con l'API tramite Python.\n",
    "\n",
    "Spotify Web API: https://developer.spotify.com/documentation/web-api\n",
    "\n",
    "Libreria Spotipy: https://spotipy.readthedocs.io/en/2.22.1/#"
   ]
  },
  {
   "cell_type": "code",
   "execution_count": null,
   "metadata": {},
   "outputs": [],
   "source": [
    "%pip install spotipy\n",
    "import spotipy as sp"
   ]
  },
  {
   "attachments": {},
   "cell_type": "markdown",
   "metadata": {},
   "source": [
    "Impostiamo le credenziale per lavorare con la API di Spotify. Saranno nascoste per motivi di protezione"
   ]
  },
  {
   "cell_type": "code",
   "execution_count": null,
   "metadata": {},
   "outputs": [],
   "source": [
    "client_id = ''\n",
    "client_secret = ''"
   ]
  },
  {
   "attachments": {},
   "cell_type": "markdown",
   "metadata": {},
   "source": [
    "Stabiliamo una connessione con Spotify"
   ]
  },
  {
   "cell_type": "code",
   "execution_count": null,
   "metadata": {},
   "outputs": [],
   "source": [
    "spotify = sp.Spotify(client_credentials_manager=sp.oauth2.SpotifyClientCredentials(client_id, client_secret))"
   ]
  },
  {
   "attachments": {},
   "cell_type": "markdown",
   "metadata": {},
   "source": [
    "Definiamo una funzione per trovare la popolarità di un artista in base al nome"
   ]
  },
  {
   "cell_type": "code",
   "execution_count": null,
   "metadata": {},
   "outputs": [],
   "source": [
    "def get_artist_popularity(artist_name):\n",
    "    results = spotify.search(q='artist:' + artist_name, type='artist')\n",
    "    items = results['artists']['items']\n",
    "    return items[0]['popularity'] if len(items) > 0 else np.nan"
   ]
  },
  {
   "attachments": {},
   "cell_type": "markdown",
   "metadata": {},
   "source": [
    "Carichiamo in un nuovo file csv i nomi degli artisti associati alla loro popolarità prendendo i nomi dal dataset delle canzoni.\n",
    "\n",
    "La popolarità è un numero da 1 a 100 calcolato da Spotify utilizzando un algoritmo interno che si basa sul numero di ascolti pesati in base alla loro vicinanza al presente"
   ]
  },
  {
   "cell_type": "code",
   "execution_count": null,
   "metadata": {},
   "outputs": [],
   "source": [
    "with open(\"artist_popularity.csv\", \"a\", newline=\"\", encoding=\"utf-8\") as csv_file:\n",
    "    writer = csv.writer(csv_file, delimiter=\"|\")\n",
    "    writer.writerow([\"artist\", \"popularity\"])\n",
    "    for _, song in songs.iterrows():\n",
    "        is_ok = False\n",
    "        while not is_ok:\n",
    "            try:\n",
    "                popularity = get_artist_popularity(song.artist)\n",
    "                is_ok = True\n",
    "                writer.writerow([song.artist, popularity])\n",
    "            except Exception as e:\n",
    "                continue\n",
    "    "
   ]
  },
  {
   "attachments": {},
   "cell_type": "markdown",
   "metadata": {},
   "source": [
    "Leggiamo poi il file csv creato e ne carichiamo i dati su un Dataset, eliminando i duplicati e ordinando per popolarità"
   ]
  },
  {
   "cell_type": "code",
   "execution_count": null,
   "metadata": {},
   "outputs": [
    {
     "data": {
      "text/html": [
       "<div>\n",
       "<style scoped>\n",
       "    .dataframe tbody tr th:only-of-type {\n",
       "        vertical-align: middle;\n",
       "    }\n",
       "\n",
       "    .dataframe tbody tr th {\n",
       "        vertical-align: top;\n",
       "    }\n",
       "\n",
       "    .dataframe thead th {\n",
       "        text-align: right;\n",
       "    }\n",
       "</style>\n",
       "<table border=\"1\" class=\"dataframe\">\n",
       "  <thead>\n",
       "    <tr style=\"text-align: right;\">\n",
       "      <th></th>\n",
       "      <th>artist</th>\n",
       "      <th>popularity</th>\n",
       "    </tr>\n",
       "  </thead>\n",
       "  <tbody>\n",
       "    <tr>\n",
       "      <th>8</th>\n",
       "      <td>Taylor Swift</td>\n",
       "      <td>100.0</td>\n",
       "    </tr>\n",
       "    <tr>\n",
       "      <th>18</th>\n",
       "      <td>Bad Bunny</td>\n",
       "      <td>96.0</td>\n",
       "    </tr>\n",
       "    <tr>\n",
       "      <th>12</th>\n",
       "      <td>The Weeknd</td>\n",
       "      <td>95.0</td>\n",
       "    </tr>\n",
       "    <tr>\n",
       "      <th>22</th>\n",
       "      <td>Drake</td>\n",
       "      <td>95.0</td>\n",
       "    </tr>\n",
       "    <tr>\n",
       "      <th>4</th>\n",
       "      <td>Metro Boomin</td>\n",
       "      <td>91.0</td>\n",
       "    </tr>\n",
       "    <tr>\n",
       "      <th>101</th>\n",
       "      <td>Lana Del Rey</td>\n",
       "      <td>91.0</td>\n",
       "    </tr>\n",
       "    <tr>\n",
       "      <th>19</th>\n",
       "      <td>Eminem</td>\n",
       "      <td>90.0</td>\n",
       "    </tr>\n",
       "    <tr>\n",
       "      <th>126</th>\n",
       "      <td>21 Savage</td>\n",
       "      <td>90.0</td>\n",
       "    </tr>\n",
       "    <tr>\n",
       "      <th>35</th>\n",
       "      <td>Ed Sheeran</td>\n",
       "      <td>90.0</td>\n",
       "    </tr>\n",
       "    <tr>\n",
       "      <th>135</th>\n",
       "      <td>BTS</td>\n",
       "      <td>90.0</td>\n",
       "    </tr>\n",
       "    <tr>\n",
       "      <th>149</th>\n",
       "      <td>Future</td>\n",
       "      <td>90.0</td>\n",
       "    </tr>\n",
       "    <tr>\n",
       "      <th>31</th>\n",
       "      <td>Morgan Wallen</td>\n",
       "      <td>90.0</td>\n",
       "    </tr>\n",
       "    <tr>\n",
       "      <th>49</th>\n",
       "      <td>Kanye West</td>\n",
       "      <td>90.0</td>\n",
       "    </tr>\n",
       "    <tr>\n",
       "      <th>660</th>\n",
       "      <td>MØ</td>\n",
       "      <td>90.0</td>\n",
       "    </tr>\n",
       "    <tr>\n",
       "      <th>43</th>\n",
       "      <td>Post Malone</td>\n",
       "      <td>89.0</td>\n",
       "    </tr>\n",
       "    <tr>\n",
       "      <th>623</th>\n",
       "      <td>Travis</td>\n",
       "      <td>89.0</td>\n",
       "    </tr>\n",
       "    <tr>\n",
       "      <th>44</th>\n",
       "      <td>Justin Bieber</td>\n",
       "      <td>89.0</td>\n",
       "    </tr>\n",
       "    <tr>\n",
       "      <th>72</th>\n",
       "      <td>Travis Scott</td>\n",
       "      <td>89.0</td>\n",
       "    </tr>\n",
       "    <tr>\n",
       "      <th>6</th>\n",
       "      <td>KAROL G</td>\n",
       "      <td>89.0</td>\n",
       "    </tr>\n",
       "    <tr>\n",
       "      <th>73</th>\n",
       "      <td>Shakira</td>\n",
       "      <td>89.0</td>\n",
       "    </tr>\n",
       "  </tbody>\n",
       "</table>\n",
       "</div>"
      ],
      "text/plain": [
       "            artist  popularity\n",
       "8     Taylor Swift       100.0\n",
       "18       Bad Bunny        96.0\n",
       "12      The Weeknd        95.0\n",
       "22           Drake        95.0\n",
       "4     Metro Boomin        91.0\n",
       "101   Lana Del Rey        91.0\n",
       "19          Eminem        90.0\n",
       "126      21 Savage        90.0\n",
       "35      Ed Sheeran        90.0\n",
       "135            BTS        90.0\n",
       "149         Future        90.0\n",
       "31   Morgan Wallen        90.0\n",
       "49      Kanye West        90.0\n",
       "660             MØ        90.0\n",
       "43     Post Malone        89.0\n",
       "623         Travis        89.0\n",
       "44   Justin Bieber        89.0\n",
       "72    Travis Scott        89.0\n",
       "6          KAROL G        89.0\n",
       "73         Shakira        89.0"
      ]
     },
     "metadata": {},
     "output_type": "display_data"
    }
   ],
   "source": [
    "artist_popularity = pd.read_csv(\"artist_popularity.csv\", sep=\"|\")\n",
    "artist_popularity.drop_duplicates(subset=\"artist\", inplace=True)\n",
    "artist_popularity.reset_index(drop=True, inplace=True)\n",
    "artist_popularity.sort_values(by=\"popularity\", ascending=False, inplace=True)\n",
    "artist_popularity.head(20)"
   ]
  },
  {
   "attachments": {},
   "cell_type": "markdown",
   "metadata": {},
   "source": [
    "### Preparazione dataset"
   ]
  },
  {
   "attachments": {},
   "cell_type": "markdown",
   "metadata": {},
   "source": [
    "Dato che il dataset calcola la popolarità attuale, convertiamo l'anno di uscita come distanza dal 2023."
   ]
  },
  {
   "cell_type": "code",
   "execution_count": 85,
   "metadata": {},
   "outputs": [],
   "source": [
    "songs[\"year\"] = 2023 - songs[\"year\"]"
   ]
  },
  {
   "attachments": {},
   "cell_type": "markdown",
   "metadata": {},
   "source": [
    "Analizziamo le relazioni fra le variabili numeriche plottando una matrice di scatter"
   ]
  },
  {
   "attachments": {},
   "cell_type": "markdown",
   "metadata": {},
   "source": [
    "Creazione di un dizionario che associa i macro generi ai generi che ne fanno parte"
   ]
  },
  {
   "cell_type": "code",
   "execution_count": 87,
   "metadata": {},
   "outputs": [],
   "source": [
    "dict_genre = {\n",
    "    \"pop\": [\"pop\", \"boy band\", \"idol\"],\n",
    "    \"rock\": [\"rock\"],\n",
    "    \"hip-hop\": [\"hip\", \"rap\", \"drill\", \"sad lo-fi\"],\n",
    "    \"soul\": [\"r&b\", \"soul\", \"gospel\"],\n",
    "    \"metal\": [\"metal\"],\n",
    "    \"latin\": [\"reggae\", \"Latin\"],\n",
    "    \"edm\": [\"house\", \"edm\", \"electro\", \"dance\", \"techno\", \"dubstep\", \"brostep\"],\n",
    "    \"indie\": [\"indie\", \"folk\", \"alternative\"],\n",
    "    \"singer-songwriter\": [\"singer-songwriter\"],\n",
    "    \"jazz\": [\"jazz\"]\n",
    "}"
   ]
  },
  {
   "attachments": {},
   "cell_type": "markdown",
   "metadata": {},
   "source": [
    "Creazione di una funzione per selezionare i generi che non appartengono a nessuna delle categorie sopra elencate"
   ]
  },
  {
   "cell_type": "code",
   "execution_count": 88,
   "metadata": {},
   "outputs": [],
   "source": [
    "def get_genres(genres):\n",
    "    return [Other(genre) for genre in genres]\n",
    "def Other(genre):\n",
    "    return genre not in dict_genre.keys()\n",
    "\n"
   ]
  },
  {
   "attachments": {},
   "cell_type": "markdown",
   "metadata": {},
   "source": [
    "ogni micro-categoria che appartiene alle macro categorie rappresentate nel dizionario, viene sostituita con la macro categoria corrispondente, per quanto riguarda le altre categorie, vengono sostituite con la categoria other"
   ]
  },
  {
   "cell_type": "code",
   "execution_count": 89,
   "metadata": {},
   "outputs": [
    {
     "name": "stderr",
     "output_type": "stream",
     "text": [
      "C:\\Users\\sirri\\AppData\\Local\\Temp\\ipykernel_2828\\3521248662.py:5: SettingWithCopyWarning: \n",
      "A value is trying to be set on a copy of a slice from a DataFrame\n",
      "\n",
      "See the caveats in the documentation: https://pandas.pydata.org/pandas-docs/stable/user_guide/indexing.html#returning-a-view-versus-a-copy\n",
      "  genre[genre.str.contains(value.lower())] = key\n",
      "C:\\Users\\sirri\\AppData\\Local\\Temp\\ipykernel_2828\\3521248662.py:7: SettingWithCopyWarning: \n",
      "A value is trying to be set on a copy of a slice from a DataFrame\n",
      "\n",
      "See the caveats in the documentation: https://pandas.pydata.org/pandas-docs/stable/user_guide/indexing.html#returning-a-view-versus-a-copy\n",
      "  genre[get_genres(genre)] = \"other\"\n"
     ]
    }
   ],
   "source": [
    "genre = songs[\"top genre\"]\n",
    "\n",
    "for key in dict_genre.keys():\n",
    "\tfor value in dict_genre[key]:\n",
    "\t\tgenre[genre.str.contains(value.lower())] = key\n",
    "\n",
    "genre[get_genres(genre)] = \"other\"\n"
   ]
  },
  {
   "attachments": {},
   "cell_type": "markdown",
   "metadata": {},
   "source": [
    "Stampa dei vari generi ottenuti, con il numero di canzoni per genere"
   ]
  },
  {
   "cell_type": "code",
   "execution_count": 90,
   "metadata": {},
   "outputs": [
    {
     "data": {
      "text/plain": [
       "pop                  1104\n",
       "hip-hop               454\n",
       "other                 244\n",
       "edm                   183\n",
       "soul                  154\n",
       "rock                  109\n",
       "metal                  60\n",
       "indie                  35\n",
       "latin                  34\n",
       "singer-songwriter       6\n",
       "jazz                    2\n",
       "Name: top genre, dtype: int64"
      ]
     },
     "execution_count": 90,
     "metadata": {},
     "output_type": "execute_result"
    }
   ],
   "source": [
    "genre.value_counts()"
   ]
  },
  {
   "attachments": {},
   "cell_type": "markdown",
   "metadata": {},
   "source": [
    "Assegnamento nel dataset delle canzoni della colonna creata precedentemente"
   ]
  },
  {
   "cell_type": "code",
   "execution_count": 91,
   "metadata": {},
   "outputs": [],
   "source": [
    "songs[\"top genre\"] = genre"
   ]
  },
  {
   "cell_type": "code",
   "execution_count": 92,
   "metadata": {},
   "outputs": [
    {
     "name": "stderr",
     "output_type": "stream",
     "text": [
      "c:\\Users\\sirri\\AppData\\Local\\Programs\\Python\\Python310\\lib\\site-packages\\sklearn\\preprocessing\\_encoders.py:868: FutureWarning: `sparse` was renamed to `sparse_output` in version 1.2 and will be removed in 1.4. `sparse_output` is ignored unless you leave `sparse` to its default value.\n",
      "  warnings.warn(\n",
      "C:\\Users\\sirri\\AppData\\Local\\Temp\\ipykernel_2828\\762320974.py:8: FutureWarning: The default value of numeric_only in DataFrame.corr is deprecated. In a future version, it will default to False. Select only valid columns or specify the value of numeric_only to silence this warning.\n",
      "  songs.corr()[\"popularity\"].sort_values(ascending=False)\n"
     ]
    },
    {
     "data": {
      "text/plain": [
       "popularity           1.000000\n",
       "songs of artist      0.241812\n",
       "acousticness         0.100588\n",
       "latin                0.096684\n",
       "rock                 0.069916\n",
       "pop                  0.052410\n",
       "singer-songwriter    0.047534\n",
       "metal                0.031049\n",
       "hip-hop              0.026465\n",
       "jazz                 0.007545\n",
       "liveness            -0.019009\n",
       "danceability        -0.019491\n",
       "bpm                 -0.019961\n",
       "soul                -0.043647\n",
       "other               -0.066467\n",
       "speechiness         -0.072670\n",
       "valence             -0.086720\n",
       "edm                 -0.092357\n",
       "duration            -0.095590\n",
       "energy              -0.120484\n",
       "indie               -0.121375\n",
       "year                -0.205909\n",
       "Name: popularity, dtype: float64"
      ]
     },
     "execution_count": 92,
     "metadata": {},
     "output_type": "execute_result"
    }
   ],
   "source": [
    "from sklearn.preprocessing import OneHotEncoder\n",
    "\n",
    "encoder = OneHotEncoder(sparse=False)\n",
    "genre_one_hot = encoder.fit_transform(songs[[\"top genre\"]])\n",
    "genre_one_hot = pd.DataFrame(genre_one_hot, columns=encoder.categories_[0])\n",
    "songs = pd.concat([songs, genre_one_hot], axis=1)\n",
    "songs.drop([\"top genre\"], axis=1, inplace=True)\n",
    "songs.corr()[\"popularity\"].sort_values(ascending=False)\n",
    "\n"
   ]
  },
  {
   "attachments": {},
   "cell_type": "markdown",
   "metadata": {},
   "source": [
    "Trasformazione di alcune variabili numeriche in categoriche."
   ]
  },
  {
   "cell_type": "code",
   "execution_count": 94,
   "metadata": {},
   "outputs": [
    {
     "data": {
      "text/plain": [
       "danceability\n",
       "(0, 60]      691\n",
       "(60, 68]     544\n",
       "(68, 76]     552\n",
       "(76, 100]    598\n",
       "dtype: int64"
      ]
     },
     "execution_count": 94,
     "metadata": {},
     "output_type": "execute_result"
    }
   ],
   "source": [
    "songs.groupby(pd.cut(songs['danceability'], [0, 60, 68, 76, 100])).size()\n",
    "\t"
   ]
  },
  {
   "cell_type": "code",
   "execution_count": 95,
   "metadata": {},
   "outputs": [],
   "source": [
    "songs['danceability'] = pd.cut(songs['danceability'], bins=[\n",
    "                               0, 60, 68, 76, 100], labels=[0, 1, 2, 3])\n"
   ]
  },
  {
   "cell_type": "code",
   "execution_count": 96,
   "metadata": {},
   "outputs": [
    {
     "data": {
      "text/plain": [
       "100"
      ]
     },
     "execution_count": 96,
     "metadata": {},
     "output_type": "execute_result"
    }
   ],
   "source": [
    "songs.energy.max()"
   ]
  },
  {
   "cell_type": "code",
   "execution_count": 97,
   "metadata": {},
   "outputs": [
    {
     "data": {
      "text/plain": [
       "energy\n",
       "(0, 60]      639\n",
       "(60, 72]     615\n",
       "(72, 82]     565\n",
       "(82, 100]    566\n",
       "dtype: int64"
      ]
     },
     "execution_count": 97,
     "metadata": {},
     "output_type": "execute_result"
    }
   ],
   "source": [
    "songs.groupby(pd.cut(songs['energy'], [0, 60, 72, 82, 100])).size()"
   ]
  },
  {
   "cell_type": "code",
   "execution_count": 98,
   "metadata": {},
   "outputs": [
    {
     "data": {
      "text/plain": [
       "100"
      ]
     },
     "execution_count": 98,
     "metadata": {},
     "output_type": "execute_result"
    }
   ],
   "source": [
    "songs.energy.max()\n"
   ]
  },
  {
   "cell_type": "code",
   "execution_count": 99,
   "metadata": {},
   "outputs": [],
   "source": [
    "songs['energy'] = pd.cut(songs['energy'], bins=[\n",
    "    0, 60, 72, 82, 100], labels=[0, 1, 2, 3])\n"
   ]
  },
  {
   "cell_type": "code",
   "execution_count": 100,
   "metadata": {},
   "outputs": [
    {
     "data": {
      "text/plain": [
       "liveness\n",
       "(0, 8]       511\n",
       "(8, 11]      553\n",
       "(11, 20]     640\n",
       "(20, 100]    681\n",
       "dtype: int64"
      ]
     },
     "execution_count": 100,
     "metadata": {},
     "output_type": "execute_result"
    }
   ],
   "source": [
    "songs.groupby(pd.cut(songs['liveness'], [0, 8, 11, 20, 100])).size()\n"
   ]
  },
  {
   "cell_type": "code",
   "execution_count": 101,
   "metadata": {},
   "outputs": [
    {
     "data": {
      "text/plain": [
       "84"
      ]
     },
     "execution_count": 101,
     "metadata": {},
     "output_type": "execute_result"
    }
   ],
   "source": [
    "songs.liveness.max()"
   ]
  },
  {
   "cell_type": "code",
   "execution_count": 102,
   "metadata": {},
   "outputs": [],
   "source": [
    "songs['liveness'] = pd.cut(songs['liveness'], bins=[\n",
    "    0, 8, 11, 20, 100], labels=[0, 1, 2, 3])\n"
   ]
  },
  {
   "cell_type": "code",
   "execution_count": 103,
   "metadata": {},
   "outputs": [
    {
     "data": {
      "text/plain": [
       "97"
      ]
     },
     "execution_count": 103,
     "metadata": {},
     "output_type": "execute_result"
    }
   ],
   "source": [
    "songs.valence.max()"
   ]
  },
  {
   "cell_type": "code",
   "execution_count": 104,
   "metadata": {},
   "outputs": [
    {
     "data": {
      "text/plain": [
       "valence\n",
       "(0, 40]      696\n",
       "(40, 55]     552\n",
       "(55, 72]     538\n",
       "(72, 100]    599\n",
       "dtype: int64"
      ]
     },
     "execution_count": 104,
     "metadata": {},
     "output_type": "execute_result"
    }
   ],
   "source": [
    "songs.groupby(pd.cut(songs['valence'], [0, 40, 55, 72, 100])).size()\n"
   ]
  },
  {
   "cell_type": "code",
   "execution_count": 105,
   "metadata": {},
   "outputs": [],
   "source": [
    "songs['valence'] = pd.cut(songs['valence'], bins=[\n",
    "    0, 40, 55, 72, 100], labels=[0, 1, 2, 3])\n"
   ]
  },
  {
   "cell_type": "code",
   "execution_count": 106,
   "metadata": {},
   "outputs": [
    {
     "data": {
      "text/plain": [
       "Index(['title', 'artist', 'year', 'bpm', 'energy', 'danceability', 'liveness',\n",
       "       'valence', 'duration', 'acousticness', 'speechiness', 'popularity',\n",
       "       'songs of artist', 'edm', 'hip-hop', 'indie', 'jazz', 'latin', 'metal',\n",
       "       'other', 'pop', 'rock', 'singer-songwriter', 'soul'],\n",
       "      dtype='object')"
      ]
     },
     "execution_count": 106,
     "metadata": {},
     "output_type": "execute_result"
    }
   ],
   "source": [
    "songs.columns"
   ]
  },
  {
   "cell_type": "code",
   "execution_count": 107,
   "metadata": {},
   "outputs": [
    {
     "data": {
      "text/plain": [
       "98"
      ]
     },
     "execution_count": 107,
     "metadata": {},
     "output_type": "execute_result"
    }
   ],
   "source": [
    "songs.acousticness.max()"
   ]
  },
  {
   "cell_type": "code",
   "execution_count": 108,
   "metadata": {},
   "outputs": [
    {
     "data": {
      "text/plain": [
       "acousticness\n",
       "(0, 3]       546\n",
       "(3, 9]       508\n",
       "(9, 25]      523\n",
       "(25, 100]    503\n",
       "dtype: int64"
      ]
     },
     "execution_count": 108,
     "metadata": {},
     "output_type": "execute_result"
    }
   ],
   "source": [
    "songs.groupby(pd.cut(songs['acousticness'], [0, 3, 9, 25, 100])).size()\n"
   ]
  },
  {
   "cell_type": "code",
   "execution_count": 109,
   "metadata": {},
   "outputs": [],
   "source": [
    "songs['acousticness'] = pd.cut(songs['acousticness'], bins=[\n",
    "    0, 3, 9, 25, 100], labels=[0, 1, 2, 3])\n"
   ]
  },
  {
   "cell_type": "code",
   "execution_count": 110,
   "metadata": {},
   "outputs": [
    {
     "data": {
      "text/plain": [
       "58"
      ]
     },
     "execution_count": 110,
     "metadata": {},
     "output_type": "execute_result"
    }
   ],
   "source": [
    "songs.speechiness.max()"
   ]
  },
  {
   "cell_type": "code",
   "execution_count": 111,
   "metadata": {},
   "outputs": [
    {
     "data": {
      "text/plain": [
       "<Axes: >"
      ]
     },
     "execution_count": 111,
     "metadata": {},
     "output_type": "execute_result"
    },
    {
     "data": {
      "image/png": "[encoded data removed]",
      "text/plain": [
       "<Figure size 640x480 with 1 Axes>"
      ]
     },
     "metadata": {},
     "output_type": "display_data"
    }
   ],
   "source": [
    "songs.speechiness.hist()"
   ]
  },
  {
   "cell_type": "code",
   "execution_count": 112,
   "metadata": {},
   "outputs": [
    {
     "data": {
      "text/plain": [
       "speechiness\n",
       "(0, 3]      433\n",
       "(3, 5]      687\n",
       "(5, 10]     570\n",
       "(10, 58]    695\n",
       "dtype: int64"
      ]
     },
     "execution_count": 112,
     "metadata": {},
     "output_type": "execute_result"
    }
   ],
   "source": [
    "songs.groupby(pd.cut(songs['speechiness'], [0, 3, 5, 10, 58])).size()\n"
   ]
  },
  {
   "cell_type": "code",
   "execution_count": 113,
   "metadata": {},
   "outputs": [],
   "source": [
    "def create_bins(feature_name, bins):\n",
    "    return pd.cut(songs[feature_name], bins=bins, labels=range(len(bins-1)))"
   ]
  },
  {
   "cell_type": "code",
   "execution_count": 123,
   "metadata": {},
   "outputs": [
    {
     "data": {
      "text/plain": [
       "3    695\n",
       "1    687\n",
       "2    570\n",
       "0    433\n",
       "Name: speechiness, dtype: int64"
      ]
     },
     "execution_count": 123,
     "metadata": {},
     "output_type": "execute_result"
    }
   ],
   "source": [
    "songs.speechiness.value_counts()"
   ]
  },
  {
   "cell_type": "code",
   "execution_count": 115,
   "metadata": {},
   "outputs": [],
   "source": [
    "songs[\"speechiness\"] = create_bins(\"speechiness\", bins=[0, 25, 100])"
   ]
  },
  {
   "cell_type": "code",
   "execution_count": 116,
   "metadata": {},
   "outputs": [
    {
     "data": {
      "text/plain": [
       "98"
      ]
     },
     "execution_count": 116,
     "metadata": {},
     "output_type": "execute_result"
    }
   ],
   "source": [
    "songs.popularity.max()"
   ]
  },
  {
   "cell_type": "code",
   "execution_count": 117,
   "metadata": {},
   "outputs": [
    {
     "data": {
      "text/plain": [
       "popularity\n",
       "(0, 65]      695\n",
       "(65, 72]     562\n",
       "(72, 78]     516\n",
       "(78, 100]    612\n",
       "dtype: int64"
      ]
     },
     "execution_count": 117,
     "metadata": {},
     "output_type": "execute_result"
    }
   ],
   "source": [
    "songs.groupby(pd.cut(songs['popularity'], [0, 65, 72, 78, 100])).size()\n"
   ]
  },
  {
   "cell_type": "code",
   "execution_count": 118,
   "metadata": {},
   "outputs": [],
   "source": [
    "songs['popularity'] = pd.cut(songs['popularity'], bins=[\n",
    "    0, 65, 72, 78, 100], labels=[0, 1, 2, 3])\n"
   ]
  },
  {
   "cell_type": "code",
   "execution_count": 119,
   "metadata": {},
   "outputs": [
    {
     "data": {
      "text/html": [
       "<div>\n",
       "<style scoped>\n",
       "    .dataframe tbody tr th:only-of-type {\n",
       "        vertical-align: middle;\n",
       "    }\n",
       "\n",
       "    .dataframe tbody tr th {\n",
       "        vertical-align: top;\n",
       "    }\n",
       "\n",
       "    .dataframe thead th {\n",
       "        text-align: right;\n",
       "    }\n",
       "</style>\n",
       "<table border=\"1\" class=\"dataframe\">\n",
       "  <thead>\n",
       "    <tr style=\"text-align: right;\">\n",
       "      <th></th>\n",
       "      <th>title</th>\n",
       "      <th>artist</th>\n",
       "      <th>year</th>\n",
       "      <th>bpm</th>\n",
       "      <th>energy</th>\n",
       "      <th>danceability</th>\n",
       "      <th>liveness</th>\n",
       "      <th>valence</th>\n",
       "      <th>duration</th>\n",
       "      <th>acousticness</th>\n",
       "      <th>...</th>\n",
       "      <th>hip-hop</th>\n",
       "      <th>indie</th>\n",
       "      <th>jazz</th>\n",
       "      <th>latin</th>\n",
       "      <th>metal</th>\n",
       "      <th>other</th>\n",
       "      <th>pop</th>\n",
       "      <th>rock</th>\n",
       "      <th>singer-songwriter</th>\n",
       "      <th>soul</th>\n",
       "    </tr>\n",
       "  </thead>\n",
       "  <tbody>\n",
       "    <tr>\n",
       "      <th>0</th>\n",
       "      <td>Flowers</td>\n",
       "      <td>Miley Cyrus</td>\n",
       "      <td>0</td>\n",
       "      <td>118</td>\n",
       "      <td>1</td>\n",
       "      <td>2</td>\n",
       "      <td>0</td>\n",
       "      <td>2</td>\n",
       "      <td>200</td>\n",
       "      <td>1</td>\n",
       "      <td>...</td>\n",
       "      <td>0.0</td>\n",
       "      <td>0.0</td>\n",
       "      <td>0.0</td>\n",
       "      <td>0.0</td>\n",
       "      <td>0.0</td>\n",
       "      <td>0.0</td>\n",
       "      <td>1.0</td>\n",
       "      <td>0.0</td>\n",
       "      <td>0.0</td>\n",
       "      <td>0.0</td>\n",
       "    </tr>\n",
       "    <tr>\n",
       "      <th>1</th>\n",
       "      <td>Cupid - Twin Ver.</td>\n",
       "      <td>FIFTY FIFTY</td>\n",
       "      <td>0</td>\n",
       "      <td>120</td>\n",
       "      <td>0</td>\n",
       "      <td>3</td>\n",
       "      <td>3</td>\n",
       "      <td>3</td>\n",
       "      <td>174</td>\n",
       "      <td>3</td>\n",
       "      <td>...</td>\n",
       "      <td>0.0</td>\n",
       "      <td>0.0</td>\n",
       "      <td>0.0</td>\n",
       "      <td>0.0</td>\n",
       "      <td>0.0</td>\n",
       "      <td>0.0</td>\n",
       "      <td>1.0</td>\n",
       "      <td>0.0</td>\n",
       "      <td>0.0</td>\n",
       "      <td>0.0</td>\n",
       "    </tr>\n",
       "    <tr>\n",
       "      <th>2</th>\n",
       "      <td>BESO</td>\n",
       "      <td>ROSALÍA</td>\n",
       "      <td>0</td>\n",
       "      <td>95</td>\n",
       "      <td>1</td>\n",
       "      <td>3</td>\n",
       "      <td>2</td>\n",
       "      <td>1</td>\n",
       "      <td>195</td>\n",
       "      <td>3</td>\n",
       "      <td>...</td>\n",
       "      <td>0.0</td>\n",
       "      <td>0.0</td>\n",
       "      <td>0.0</td>\n",
       "      <td>0.0</td>\n",
       "      <td>0.0</td>\n",
       "      <td>0.0</td>\n",
       "      <td>1.0</td>\n",
       "      <td>0.0</td>\n",
       "      <td>0.0</td>\n",
       "      <td>0.0</td>\n",
       "    </tr>\n",
       "    <tr>\n",
       "      <th>3</th>\n",
       "      <td>Boy's a liar Pt. 2</td>\n",
       "      <td>PinkPantheress</td>\n",
       "      <td>0</td>\n",
       "      <td>133</td>\n",
       "      <td>2</td>\n",
       "      <td>2</td>\n",
       "      <td>3</td>\n",
       "      <td>3</td>\n",
       "      <td>131</td>\n",
       "      <td>2</td>\n",
       "      <td>...</td>\n",
       "      <td>1.0</td>\n",
       "      <td>0.0</td>\n",
       "      <td>0.0</td>\n",
       "      <td>0.0</td>\n",
       "      <td>0.0</td>\n",
       "      <td>0.0</td>\n",
       "      <td>0.0</td>\n",
       "      <td>0.0</td>\n",
       "      <td>0.0</td>\n",
       "      <td>0.0</td>\n",
       "    </tr>\n",
       "    <tr>\n",
       "      <th>4</th>\n",
       "      <td>Creepin' (with The Weeknd &amp; 21 Savage)</td>\n",
       "      <td>Metro Boomin</td>\n",
       "      <td>1</td>\n",
       "      <td>98</td>\n",
       "      <td>1</td>\n",
       "      <td>2</td>\n",
       "      <td>0</td>\n",
       "      <td>0</td>\n",
       "      <td>222</td>\n",
       "      <td>3</td>\n",
       "      <td>...</td>\n",
       "      <td>1.0</td>\n",
       "      <td>0.0</td>\n",
       "      <td>0.0</td>\n",
       "      <td>0.0</td>\n",
       "      <td>0.0</td>\n",
       "      <td>0.0</td>\n",
       "      <td>0.0</td>\n",
       "      <td>0.0</td>\n",
       "      <td>0.0</td>\n",
       "      <td>0.0</td>\n",
       "    </tr>\n",
       "    <tr>\n",
       "      <th>...</th>\n",
       "      <td>...</td>\n",
       "      <td>...</td>\n",
       "      <td>...</td>\n",
       "      <td>...</td>\n",
       "      <td>...</td>\n",
       "      <td>...</td>\n",
       "      <td>...</td>\n",
       "      <td>...</td>\n",
       "      <td>...</td>\n",
       "      <td>...</td>\n",
       "      <td>...</td>\n",
       "      <td>...</td>\n",
       "      <td>...</td>\n",
       "      <td>...</td>\n",
       "      <td>...</td>\n",
       "      <td>...</td>\n",
       "      <td>...</td>\n",
       "      <td>...</td>\n",
       "      <td>...</td>\n",
       "      <td>...</td>\n",
       "      <td>...</td>\n",
       "    </tr>\n",
       "    <tr>\n",
       "      <th>2380</th>\n",
       "      <td>Southbound</td>\n",
       "      <td>Beach Blvd</td>\n",
       "      <td>0</td>\n",
       "      <td>140</td>\n",
       "      <td>3</td>\n",
       "      <td>0</td>\n",
       "      <td>1</td>\n",
       "      <td>1</td>\n",
       "      <td>228</td>\n",
       "      <td>2</td>\n",
       "      <td>...</td>\n",
       "      <td>0.0</td>\n",
       "      <td>0.0</td>\n",
       "      <td>0.0</td>\n",
       "      <td>0.0</td>\n",
       "      <td>0.0</td>\n",
       "      <td>0.0</td>\n",
       "      <td>0.0</td>\n",
       "      <td>1.0</td>\n",
       "      <td>0.0</td>\n",
       "      <td>0.0</td>\n",
       "    </tr>\n",
       "    <tr>\n",
       "      <th>2381</th>\n",
       "      <td>Dance with Somebody - Radio Version</td>\n",
       "      <td>Mando Diao</td>\n",
       "      <td>14</td>\n",
       "      <td>150</td>\n",
       "      <td>3</td>\n",
       "      <td>0</td>\n",
       "      <td>3</td>\n",
       "      <td>1</td>\n",
       "      <td>241</td>\n",
       "      <td>NaN</td>\n",
       "      <td>...</td>\n",
       "      <td>0.0</td>\n",
       "      <td>1.0</td>\n",
       "      <td>0.0</td>\n",
       "      <td>0.0</td>\n",
       "      <td>0.0</td>\n",
       "      <td>0.0</td>\n",
       "      <td>0.0</td>\n",
       "      <td>0.0</td>\n",
       "      <td>0.0</td>\n",
       "      <td>0.0</td>\n",
       "    </tr>\n",
       "    <tr>\n",
       "      <th>2382</th>\n",
       "      <td>Flow</td>\n",
       "      <td>Desire Machines</td>\n",
       "      <td>1</td>\n",
       "      <td>100</td>\n",
       "      <td>3</td>\n",
       "      <td>0</td>\n",
       "      <td>1</td>\n",
       "      <td>3</td>\n",
       "      <td>255</td>\n",
       "      <td>NaN</td>\n",
       "      <td>...</td>\n",
       "      <td>0.0</td>\n",
       "      <td>1.0</td>\n",
       "      <td>0.0</td>\n",
       "      <td>0.0</td>\n",
       "      <td>0.0</td>\n",
       "      <td>0.0</td>\n",
       "      <td>0.0</td>\n",
       "      <td>0.0</td>\n",
       "      <td>0.0</td>\n",
       "      <td>0.0</td>\n",
       "    </tr>\n",
       "    <tr>\n",
       "      <th>2383</th>\n",
       "      <td>Scared of the Dark</td>\n",
       "      <td>Everything Brighter</td>\n",
       "      <td>0</td>\n",
       "      <td>120</td>\n",
       "      <td>2</td>\n",
       "      <td>1</td>\n",
       "      <td>0</td>\n",
       "      <td>2</td>\n",
       "      <td>179</td>\n",
       "      <td>NaN</td>\n",
       "      <td>...</td>\n",
       "      <td>0.0</td>\n",
       "      <td>0.0</td>\n",
       "      <td>0.0</td>\n",
       "      <td>0.0</td>\n",
       "      <td>0.0</td>\n",
       "      <td>0.0</td>\n",
       "      <td>1.0</td>\n",
       "      <td>0.0</td>\n",
       "      <td>0.0</td>\n",
       "      <td>0.0</td>\n",
       "    </tr>\n",
       "    <tr>\n",
       "      <th>2384</th>\n",
       "      <td>Sorry</td>\n",
       "      <td>LEADR</td>\n",
       "      <td>0</td>\n",
       "      <td>95</td>\n",
       "      <td>1</td>\n",
       "      <td>1</td>\n",
       "      <td>2</td>\n",
       "      <td>0</td>\n",
       "      <td>174</td>\n",
       "      <td>NaN</td>\n",
       "      <td>...</td>\n",
       "      <td>0.0</td>\n",
       "      <td>0.0</td>\n",
       "      <td>0.0</td>\n",
       "      <td>0.0</td>\n",
       "      <td>0.0</td>\n",
       "      <td>0.0</td>\n",
       "      <td>0.0</td>\n",
       "      <td>0.0</td>\n",
       "      <td>0.0</td>\n",
       "      <td>0.0</td>\n",
       "    </tr>\n",
       "  </tbody>\n",
       "</table>\n",
       "<p>2385 rows × 24 columns</p>\n",
       "</div>"
      ],
      "text/plain": [
       "                                       title               artist  year  bpm  \\\n",
       "0                                    Flowers          Miley Cyrus     0  118   \n",
       "1                          Cupid - Twin Ver.          FIFTY FIFTY     0  120   \n",
       "2                                       BESO              ROSALÍA     0   95   \n",
       "3                         Boy's a liar Pt. 2       PinkPantheress     0  133   \n",
       "4     Creepin' (with The Weeknd & 21 Savage)         Metro Boomin     1   98   \n",
       "...                                      ...                  ...   ...  ...   \n",
       "2380                              Southbound           Beach Blvd     0  140   \n",
       "2381     Dance with Somebody - Radio Version           Mando Diao    14  150   \n",
       "2382                                    Flow      Desire Machines     1  100   \n",
       "2383                      Scared of the Dark  Everything Brighter     0  120   \n",
       "2384                                   Sorry                LEADR     0   95   \n",
       "\n",
       "     energy danceability liveness valence  duration acousticness  ... hip-hop  \\\n",
       "0         1            2        0       2       200            1  ...     0.0   \n",
       "1         0            3        3       3       174            3  ...     0.0   \n",
       "2         1            3        2       1       195            3  ...     0.0   \n",
       "3         2            2        3       3       131            2  ...     1.0   \n",
       "4         1            2        0       0       222            3  ...     1.0   \n",
       "...     ...          ...      ...     ...       ...          ...  ...     ...   \n",
       "2380      3            0        1       1       228            2  ...     0.0   \n",
       "2381      3            0        3       1       241          NaN  ...     0.0   \n",
       "2382      3            0        1       3       255          NaN  ...     0.0   \n",
       "2383      2            1        0       2       179          NaN  ...     0.0   \n",
       "2384      1            1        2       0       174          NaN  ...     0.0   \n",
       "\n",
       "     indie  jazz  latin  metal  other  pop  rock  singer-songwriter  soul  \n",
       "0      0.0   0.0    0.0    0.0    0.0  1.0   0.0                0.0   0.0  \n",
       "1      0.0   0.0    0.0    0.0    0.0  1.0   0.0                0.0   0.0  \n",
       "2      0.0   0.0    0.0    0.0    0.0  1.0   0.0                0.0   0.0  \n",
       "3      0.0   0.0    0.0    0.0    0.0  0.0   0.0                0.0   0.0  \n",
       "4      0.0   0.0    0.0    0.0    0.0  0.0   0.0                0.0   0.0  \n",
       "...    ...   ...    ...    ...    ...  ...   ...                ...   ...  \n",
       "2380   0.0   0.0    0.0    0.0    0.0  0.0   1.0                0.0   0.0  \n",
       "2381   1.0   0.0    0.0    0.0    0.0  0.0   0.0                0.0   0.0  \n",
       "2382   1.0   0.0    0.0    0.0    0.0  0.0   0.0                0.0   0.0  \n",
       "2383   0.0   0.0    0.0    0.0    0.0  1.0   0.0                0.0   0.0  \n",
       "2384   0.0   0.0    0.0    0.0    0.0  0.0   0.0                0.0   0.0  \n",
       "\n",
       "[2385 rows x 24 columns]"
      ]
     },
     "execution_count": 119,
     "metadata": {},
     "output_type": "execute_result"
    }
   ],
   "source": [
    "songs"
   ]
  },
  {
   "cell_type": "code",
   "execution_count": null,
   "metadata": {},
   "outputs": [],
   "source": []
  }
 ],
 "metadata": {
  "kernelspec": {
   "display_name": "Python 3",
   "language": "python",
   "name": "python3"
  },
  "language_info": {
   "codemirror_mode": {
    "name": "ipython",
    "version": 3
   },
   "file_extension": ".py",
   "mimetype": "text/x-python",
   "name": "python",
   "nbconvert_exporter": "python",
   "pygments_lexer": "ipython3",
   "version": "3.10.0"
  },
  "orig_nbformat": 4
 },
 "nbformat": 4,
 "nbformat_minor": 2
}
