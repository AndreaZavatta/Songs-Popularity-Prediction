{
 "cells": [
  {
   "cell_type": "code",
   "execution_count": 1,
   "metadata": {},
   "outputs": [],
   "source": [
    "import numpy as np\n",
    "import pandas as pd\n",
    "import matplotlib.pyplot as plt"
   ]
  },
  {
   "cell_type": "code",
   "execution_count": 5,
   "metadata": {},
   "outputs": [
    {
     "name": "stdout",
     "output_type": "stream",
     "text": [
      "Searching for \"Self-love\" by Metro Boomin...\n",
      "Done.\n",
      "Testo di 'Self-love' di Metro Boomin:\n",
      "57 ContributorsTranslationsРусскийEspañolPortuguêsSelf Love (Spider-Man: Across the Spider-Verse) Lyrics[Intro: Coi Leray & Young Thug]\n",
      "(Metro)\n",
      "Yeah\n",
      "Mmm\n",
      "\n",
      "[Refrain: Coi Leray]\n",
      "Oh my, she's a long way from suburban towns\n",
      "Came to the city for the love, got her hurtin’ now\n",
      "Oh my, she's a long way from suburban town\n",
      "Long way, really long way from suburbia\n",
      "\n",
      "[Verse 1: Coi Leray]\n",
      "Small town love, fall down love, not medicated\n",
      "Drink too much, think too much, thoughts drownin' me\n",
      "I’m too high, please don't cry, stop doubtin' me\n",
      "You don't know love, you just show love, stop downin' me\n",
      "\n",
      "[Chorus: Coi Leray]\n",
      "Self-love, he don't love himself, tryna love me\n",
      "Cuff me, told the truth to him, he don't trust me\n",
      "Self-love, he don't love himself, tryna love me\n",
      "Cuff me, told the truth to him, he don’t trust mе\n",
      "\n",
      "[Refrain: Coi Leray]\n",
      "Oh my, she’s a long way from suburban towns\n",
      "Came to the city for thе love, got her hurtin' now\n",
      "Oh my, she’s a long way from suburban town\n",
      "Long way, really long way from suburbia\n",
      "You might also like[Verse 2: Coi Leray]\n",
      "Big dreams, yeah (Yo), big screams, yeah (Oh, yo)\n",
      "She's impressionable\n",
      "Hate to see, yeah (Woah), money scheme, yeah (Woah)\n",
      "Livin' questionable\n",
      "My friends drive (Yo) new beamers (Oh, yo)\n",
      "Drop top convertibles\n",
      "Love hangin' out, say you hate it now\n",
      "Feelin’ introvertical\n",
      "\n",
      "[Chorus: Coi Leray]\n",
      "Self-love, he don't love himself, tryna love me\n",
      "Cuff me, told the truth to him, he don't trust me\n",
      "Self-love, he don't love himself, tryna love me\n",
      "Cuff me, told the truth to him, he don't trust me\n",
      "\n",
      "[Refrain: Coi Leray]\n",
      "Oh my, she's a long way from suburban towns\n",
      "Came to the city for the love, got her hurtin' now\n",
      "Oh my, she's a long way from suburban town\n",
      "Long way, really long way from suburbia\n",
      "\n",
      "[Bridge Instrumental]\n",
      "\n",
      "[Chorus: Coi Leray]\n",
      "Self-love, he don't love himself, tryna love me\n",
      "Cuff me, told the truth to him, he don't trust me\n",
      "Self-love, he don't love himself, tryna love me\n",
      "Cuff me, told the truth to him, he don't trust me\n",
      "[Refrain: Coi Leray]\n",
      "Oh my, she's a long way from suburban towns\n",
      "Came to the city for the love, got her hurtin' now\n",
      "Oh my, she's a long way from suburban town\n",
      "Long way, really long way from suburbia\n",
      "\n",
      "[Outro: Hailee Steinfeld & Shameik Moore]\n",
      "In every other universe Gwen Stacy falls for Spider-Man, and in every other universe it doesn't end well\n",
      "Well, it's a first time for everything, right?1Embed\n"
     ]
    }
   ],
   "source": [
    "import lyricsgenius\n",
    "\n",
    "\n",
    "def search_lyrics(artist_name, song_title):\n",
    "    access_token = '8yvpmDv96aodI5vg660Afcby4XPdrhPrx4JCAM3souNcRYG9C2nF5TWg1'\n",
    "\n",
    "    genius = lyricsgenius.Genius(access_token)\n",
    "\n",
    "    song = genius.search_song(song_title, artist_name)\n",
    "\n",
    "    if song is not None:\n",
    "        print(f\"Testo di '{song_title}' di {artist_name}:\")\n",
    "        print(song.lyrics)\n",
    "    else:\n",
    "        print(f\"Nessun testo trovato per '{song_title}' di {artist_name}.\")\n",
    "\n",
    "\n",
    "# Esempio di utilizzo\n",
    "search_lyrics(\"Metro Boomin\", \"Self-love\")\n"
   ]
  },
  {
   "cell_type": "code",
   "execution_count": null,
   "metadata": {},
   "outputs": [],
   "source": []
  }
 ],
 "metadata": {
  "kernelspec": {
   "display_name": "Python 3",
   "language": "python",
   "name": "python3"
  },
  "language_info": {
   "codemirror_mode": {
    "name": "ipython",
    "version": 3
   },
   "file_extension": ".py",
   "mimetype": "text/x-python",
   "name": "python",
   "nbconvert_exporter": "python",
   "pygments_lexer": "ipython3",
   "version": "3.10.11"
  },
  "orig_nbformat": 4
 },
 "nbformat": 4,
 "nbformat_minor": 2
}
