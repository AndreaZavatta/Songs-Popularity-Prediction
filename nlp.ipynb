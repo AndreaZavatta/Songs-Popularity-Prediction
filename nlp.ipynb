{
 "cells": [
  {
   "cell_type": "code",
   "execution_count": 243,
   "metadata": {},
   "outputs": [],
   "source": [
    "import numpy as np\n",
    "import pandas as pd\n",
    "import matplotlib.pyplot as plt"
   ]
  },
  {
   "cell_type": "code",
   "execution_count": null,
   "metadata": {},
   "outputs": [],
   "source": [
    "%pip install nltk\n",
    "import nltk\n",
    "%pip install langdetect\n",
    "from langdetect import detect"
   ]
  },
  {
   "cell_type": "code",
   "execution_count": 325,
   "metadata": {},
   "outputs": [
    {
     "data": {
      "text/html": [
       "<div>\n",
       "<style scoped>\n",
       "    .dataframe tbody tr th:only-of-type {\n",
       "        vertical-align: middle;\n",
       "    }\n",
       "\n",
       "    .dataframe tbody tr th {\n",
       "        vertical-align: top;\n",
       "    }\n",
       "\n",
       "    .dataframe thead th {\n",
       "        text-align: right;\n",
       "    }\n",
       "</style>\n",
       "<table border=\"1\" class=\"dataframe\">\n",
       "  <thead>\n",
       "    <tr style=\"text-align: right;\">\n",
       "      <th></th>\n",
       "      <th>title</th>\n",
       "      <th>artist</th>\n",
       "      <th>lyrics</th>\n",
       "    </tr>\n",
       "  </thead>\n",
       "  <tbody>\n",
       "    <tr>\n",
       "      <th>0</th>\n",
       "      <td>Flowers</td>\n",
       "      <td>Miley Cyrus</td>\n",
       "      <td>88 ContributorsTranslationsEspañolPortuguêsKis...</td>\n",
       "    </tr>\n",
       "    <tr>\n",
       "      <th>1</th>\n",
       "      <td>Cupid - Twin Ver.</td>\n",
       "      <td>FIFTY FIFTY</td>\n",
       "      <td>1 ContributorTranslationsEnglishBahasa MelayuF...</td>\n",
       "    </tr>\n",
       "    <tr>\n",
       "      <th>2</th>\n",
       "      <td>BESO</td>\n",
       "      <td>ROSALÍA</td>\n",
       "      <td>29 ContributorsTranslationsPortuguêsEnglishDeu...</td>\n",
       "    </tr>\n",
       "    <tr>\n",
       "      <th>3</th>\n",
       "      <td>Boy's a liar Pt. 2</td>\n",
       "      <td>PinkPantheress</td>\n",
       "      <td>92 ContributorsTranslationsPortuguêsTürkçeDeut...</td>\n",
       "    </tr>\n",
       "    <tr>\n",
       "      <th>4</th>\n",
       "      <td>Creepin' (with The Weeknd &amp; 21 Savage)</td>\n",
       "      <td>Metro Boomin</td>\n",
       "      <td>2 ContributorsNew Music Friday 12/02/22 Lyrics...</td>\n",
       "    </tr>\n",
       "    <tr>\n",
       "      <th>...</th>\n",
       "      <td>...</td>\n",
       "      <td>...</td>\n",
       "      <td>...</td>\n",
       "    </tr>\n",
       "    <tr>\n",
       "      <th>2380</th>\n",
       "      <td>Southbound</td>\n",
       "      <td>Beach Blvd</td>\n",
       "      <td>2 ContributorsMe &amp; My Skate Lyrics[Skit]\\nOh s...</td>\n",
       "    </tr>\n",
       "    <tr>\n",
       "      <th>2381</th>\n",
       "      <td>Dance with Somebody - Radio Version</td>\n",
       "      <td>Mando Diao</td>\n",
       "      <td>1 ContributorDance With Somebody - Radio Versi...</td>\n",
       "    </tr>\n",
       "    <tr>\n",
       "      <th>2382</th>\n",
       "      <td>Flow</td>\n",
       "      <td>Desire Machines</td>\n",
       "      <td>1 ContributorWhat Matters? Lyrics[Hook]\\nLeave...</td>\n",
       "    </tr>\n",
       "    <tr>\n",
       "      <th>2383</th>\n",
       "      <td>Scared of the Dark</td>\n",
       "      <td>Everything Brighter</td>\n",
       "      <td>1 ContributorWay Home LyricsYa Ya Ya\\n\\nI hear...</td>\n",
       "    </tr>\n",
       "    <tr>\n",
       "      <th>2384</th>\n",
       "      <td>Sorry</td>\n",
       "      <td>LEADR</td>\n",
       "      <td>5 ContributorsI&amp;I Lyrics[Intro]\\nSelah\\nKnow w...</td>\n",
       "    </tr>\n",
       "  </tbody>\n",
       "</table>\n",
       "<p>2385 rows × 3 columns</p>\n",
       "</div>"
      ],
      "text/plain": [
       "                                       title               artist  \\\n",
       "0                                    Flowers          Miley Cyrus   \n",
       "1                          Cupid - Twin Ver.          FIFTY FIFTY   \n",
       "2                                       BESO              ROSALÍA   \n",
       "3                         Boy's a liar Pt. 2       PinkPantheress   \n",
       "4     Creepin' (with The Weeknd & 21 Savage)         Metro Boomin   \n",
       "...                                      ...                  ...   \n",
       "2380                              Southbound           Beach Blvd   \n",
       "2381     Dance with Somebody - Radio Version           Mando Diao   \n",
       "2382                                    Flow      Desire Machines   \n",
       "2383                      Scared of the Dark  Everything Brighter   \n",
       "2384                                   Sorry                LEADR   \n",
       "\n",
       "                                                 lyrics  \n",
       "0     88 ContributorsTranslationsEspañolPortuguêsKis...  \n",
       "1     1 ContributorTranslationsEnglishBahasa MelayuF...  \n",
       "2     29 ContributorsTranslationsPortuguêsEnglishDeu...  \n",
       "3     92 ContributorsTranslationsPortuguêsTürkçeDeut...  \n",
       "4     2 ContributorsNew Music Friday 12/02/22 Lyrics...  \n",
       "...                                                 ...  \n",
       "2380  2 ContributorsMe & My Skate Lyrics[Skit]\\nOh s...  \n",
       "2381  1 ContributorDance With Somebody - Radio Versi...  \n",
       "2382  1 ContributorWhat Matters? Lyrics[Hook]\\nLeave...  \n",
       "2383  1 ContributorWay Home LyricsYa Ya Ya\\n\\nI hear...  \n",
       "2384  5 ContributorsI&I Lyrics[Intro]\\nSelah\\nKnow w...  \n",
       "\n",
       "[2385 rows x 3 columns]"
      ]
     },
     "execution_count": 325,
     "metadata": {},
     "output_type": "execute_result"
    }
   ],
   "source": [
    "lyrics = pd.read_csv(\"songs_lyrics.csv\", sep=\"|\", na_values={\"\": None}, keep_default_na=False)\n",
    "lyrics"
   ]
  },
  {
   "cell_type": "code",
   "execution_count": 328,
   "metadata": {},
   "outputs": [
    {
     "name": "stdout",
     "output_type": "stream",
     "text": [
      "Ci sono 54 canzoni di cui non è stato trovato il testo.\n"
     ]
    },
    {
     "data": {
      "text/html": [
       "<div>\n",
       "<style scoped>\n",
       "    .dataframe tbody tr th:only-of-type {\n",
       "        vertical-align: middle;\n",
       "    }\n",
       "\n",
       "    .dataframe tbody tr th {\n",
       "        vertical-align: top;\n",
       "    }\n",
       "\n",
       "    .dataframe thead th {\n",
       "        text-align: right;\n",
       "    }\n",
       "</style>\n",
       "<table border=\"1\" class=\"dataframe\">\n",
       "  <thead>\n",
       "    <tr style=\"text-align: right;\">\n",
       "      <th></th>\n",
       "      <th>title</th>\n",
       "      <th>artist</th>\n",
       "      <th>lyrics</th>\n",
       "    </tr>\n",
       "  </thead>\n",
       "  <tbody>\n",
       "    <tr>\n",
       "      <th>16</th>\n",
       "      <td>Until I Found You (with Em Beihold) - Em Beiho...</td>\n",
       "      <td>Stephen Sanchez</td>\n",
       "      <td></td>\n",
       "    </tr>\n",
       "    <tr>\n",
       "      <th>317</th>\n",
       "      <td>Happy - From \"Despicable Me 2\"</td>\n",
       "      <td>Pharrell Williams</td>\n",
       "      <td></td>\n",
       "    </tr>\n",
       "    <tr>\n",
       "      <th>339</th>\n",
       "      <td>Moves Like Jagger - Studio Recording From \"The...</td>\n",
       "      <td>Maroon 5</td>\n",
       "      <td></td>\n",
       "    </tr>\n",
       "    <tr>\n",
       "      <th>446</th>\n",
       "      <td>CAN'T STOP THE FEELING! (from DreamWorks Anima...</td>\n",
       "      <td>Justin Timberlake</td>\n",
       "      <td></td>\n",
       "    </tr>\n",
       "    <tr>\n",
       "      <th>684</th>\n",
       "      <td>Valerie (feat. Amy Winehouse) - Version Revisited</td>\n",
       "      <td>Mark Ronson</td>\n",
       "      <td></td>\n",
       "    </tr>\n",
       "  </tbody>\n",
       "</table>\n",
       "</div>"
      ],
      "text/plain": [
       "                                                 title             artist  \\\n",
       "16   Until I Found You (with Em Beihold) - Em Beiho...    Stephen Sanchez   \n",
       "317                     Happy - From \"Despicable Me 2\"  Pharrell Williams   \n",
       "339  Moves Like Jagger - Studio Recording From \"The...           Maroon 5   \n",
       "446  CAN'T STOP THE FEELING! (from DreamWorks Anima...  Justin Timberlake   \n",
       "684  Valerie (feat. Amy Winehouse) - Version Revisited        Mark Ronson   \n",
       "\n",
       "    lyrics  \n",
       "16          \n",
       "317         \n",
       "339         \n",
       "446         \n",
       "684         "
      ]
     },
     "execution_count": 328,
     "metadata": {},
     "output_type": "execute_result"
    }
   ],
   "source": [
    "print(f\"Ci sono {(lyrics['lyrics'] == '').sum()} canzoni di cui non è stato trovato il testo.\")\n",
    "lyrics[lyrics[\"lyrics\"] == ''].head()"
   ]
  },
  {
   "cell_type": "code",
   "execution_count": 271,
   "metadata": {},
   "outputs": [
    {
     "data": {
      "text/plain": [
       "\"88 ContributorsTranslationsEspañolPortuguêsKiswahiliDeutschItalianoСрпскиNederlandsSvenskaPolskiTürkçeΕλληνικάFrançaisDanskРусскийالعربيةУкраїнськаBahasa IndonesiaFlowers Lyrics[Verse 1]\\nWe were good, we were gold\\nKinda dream that can't be sold\\nWe were right 'til we weren't\\nBuilt a home and watched it burn\\n\\n[Pre-Chorus]\\nMm, I didn't wanna leave you, I didn't wanna lie\\nStarted to cry, but then remembered I\\n\\n[Chorus]\\nI can buy myself flowers\\nWrite my name in the sand\\nTalk to myself for hours\\nSay things you don't understand\\nI can take myself dancing\\nAnd I can hold my own hand\\nYeah, I can love me better than you can\\n\\n[Post-Chorus]\\nCan love me better, I can love me better, baby\\nCan love me better, I can love me better, baby\\n\\n[Verse 2]\\nPaint my nails cherry-red\\nMatch the roses that you left\\nNo remorse, no regret\\nI forgive every word you said\\nYou might also like[Pre-Chorus]\\nOoh, I didn't wanna leave you, baby, I didn't wanna fight\\nStarted to cry, but then remembered I\\n\\n[Chorus]\\nI can buy myself flowers\\nWrite my name in the sand\\nTalk to myself for hours, yeah\\nSay things you don't understand\\nI can take myself dancing, yeah\\nI can hold my own hand\\nYeah, I can love me better than you can\\n\\n[Post-Chorus]\\nCan love me better, I can love me better, baby\\nCan love me better, I can love me better, baby\\nCan love me better, I can love me better, baby\\nCan love me better, I (Ooh, I)\\n\\n[Bridge]\\nI didn't wanna leave you, I didn't wanna fight\\nStarted to cry, but then remembered I\\n\\n[Chorus]\\nI can buy myself flowers (Uh-huh)\\nWrite my name in the sand\\nTalk to myself for hours (Yeah)\\nSay things you don't understand (You never will)\\nI can take myself dancing, yeah\\nI can hold my own hand\\nYeah, I can love me better than\\nYeah, I can love me better than you can\\n[Post-Chorus]\\nCan love me better, I can love me better, baby (Uh)\\nCan love me better, I can love me better, baby (Than you can)\\nCan love me better, I can love me better, baby\\nCan love me better, I33Embed\""
      ]
     },
     "execution_count": 271,
     "metadata": {},
     "output_type": "execute_result"
    }
   ],
   "source": [
    "lyrics[\"lyrics\"][0]"
   ]
  },
  {
   "cell_type": "code",
   "execution_count": 273,
   "metadata": {},
   "outputs": [],
   "source": [
    "def clear_lyrics(text):\n",
    "    if text != '':\n",
    "        contributors, other = text.split(\"Contributor\")\n",
    "        text = other.split(\"Lyrics\")[1].split(\"Embed\")[0] if int(contributors) > 20 else ''\n",
    "    return text"
   ]
  },
  {
   "cell_type": "code",
   "execution_count": 275,
   "metadata": {},
   "outputs": [
    {
     "data": {
      "text/html": [
       "<div>\n",
       "<style scoped>\n",
       "    .dataframe tbody tr th:only-of-type {\n",
       "        vertical-align: middle;\n",
       "    }\n",
       "\n",
       "    .dataframe tbody tr th {\n",
       "        vertical-align: top;\n",
       "    }\n",
       "\n",
       "    .dataframe thead th {\n",
       "        text-align: right;\n",
       "    }\n",
       "</style>\n",
       "<table border=\"1\" class=\"dataframe\">\n",
       "  <thead>\n",
       "    <tr style=\"text-align: right;\">\n",
       "      <th></th>\n",
       "      <th>title</th>\n",
       "      <th>artist</th>\n",
       "      <th>lyrics</th>\n",
       "    </tr>\n",
       "  </thead>\n",
       "  <tbody>\n",
       "    <tr>\n",
       "      <th>0</th>\n",
       "      <td>Flowers</td>\n",
       "      <td>Miley Cyrus</td>\n",
       "      <td>[Verse 1]\\nWe were good, we were gold\\nKinda d...</td>\n",
       "    </tr>\n",
       "    <tr>\n",
       "      <th>1</th>\n",
       "      <td>Cupid - Twin Ver.</td>\n",
       "      <td>FIFTY FIFTY</td>\n",
       "      <td></td>\n",
       "    </tr>\n",
       "    <tr>\n",
       "      <th>2</th>\n",
       "      <td>BESO</td>\n",
       "      <td>ROSALÍA</td>\n",
       "      <td>[Letra de \"BESO\"]\\n\\n[Coro: ROSALÍA]\\nYa yo ne...</td>\n",
       "    </tr>\n",
       "    <tr>\n",
       "      <th>3</th>\n",
       "      <td>Boy's a liar Pt. 2</td>\n",
       "      <td>PinkPantheress</td>\n",
       "      <td>[Verse 1: PinkPantheress]\\nTake a look inside ...</td>\n",
       "    </tr>\n",
       "    <tr>\n",
       "      <th>4</th>\n",
       "      <td>Creepin' (with The Weeknd &amp; 21 Savage)</td>\n",
       "      <td>Metro Boomin</td>\n",
       "      <td></td>\n",
       "    </tr>\n",
       "    <tr>\n",
       "      <th>...</th>\n",
       "      <td>...</td>\n",
       "      <td>...</td>\n",
       "      <td>...</td>\n",
       "    </tr>\n",
       "    <tr>\n",
       "      <th>2380</th>\n",
       "      <td>Southbound</td>\n",
       "      <td>Beach Blvd</td>\n",
       "      <td></td>\n",
       "    </tr>\n",
       "    <tr>\n",
       "      <th>2381</th>\n",
       "      <td>Dance with Somebody - Radio Version</td>\n",
       "      <td>Mando Diao</td>\n",
       "      <td></td>\n",
       "    </tr>\n",
       "    <tr>\n",
       "      <th>2382</th>\n",
       "      <td>Flow</td>\n",
       "      <td>Desire Machines</td>\n",
       "      <td></td>\n",
       "    </tr>\n",
       "    <tr>\n",
       "      <th>2383</th>\n",
       "      <td>Scared of the Dark</td>\n",
       "      <td>Everything Brighter</td>\n",
       "      <td></td>\n",
       "    </tr>\n",
       "    <tr>\n",
       "      <th>2384</th>\n",
       "      <td>Sorry</td>\n",
       "      <td>LEADR</td>\n",
       "      <td></td>\n",
       "    </tr>\n",
       "  </tbody>\n",
       "</table>\n",
       "<p>2385 rows × 3 columns</p>\n",
       "</div>"
      ],
      "text/plain": [
       "                                       title               artist  \\\n",
       "0                                    Flowers          Miley Cyrus   \n",
       "1                          Cupid - Twin Ver.          FIFTY FIFTY   \n",
       "2                                       BESO              ROSALÍA   \n",
       "3                         Boy's a liar Pt. 2       PinkPantheress   \n",
       "4     Creepin' (with The Weeknd & 21 Savage)         Metro Boomin   \n",
       "...                                      ...                  ...   \n",
       "2380                              Southbound           Beach Blvd   \n",
       "2381     Dance with Somebody - Radio Version           Mando Diao   \n",
       "2382                                    Flow      Desire Machines   \n",
       "2383                      Scared of the Dark  Everything Brighter   \n",
       "2384                                   Sorry                LEADR   \n",
       "\n",
       "                                                 lyrics  \n",
       "0     [Verse 1]\\nWe were good, we were gold\\nKinda d...  \n",
       "1                                                        \n",
       "2     [Letra de \"BESO\"]\\n\\n[Coro: ROSALÍA]\\nYa yo ne...  \n",
       "3     [Verse 1: PinkPantheress]\\nTake a look inside ...  \n",
       "4                                                        \n",
       "...                                                 ...  \n",
       "2380                                                     \n",
       "2381                                                     \n",
       "2382                                                     \n",
       "2383                                                     \n",
       "2384                                                     \n",
       "\n",
       "[2385 rows x 3 columns]"
      ]
     },
     "execution_count": 275,
     "metadata": {},
     "output_type": "execute_result"
    }
   ],
   "source": [
    "lyrics[\"lyrics\"] = lyrics[\"lyrics\"].map(clear_lyrics)\n",
    "print(f\"Ci sono {(lyrics['lyrics'] == '').sum()} che ora non hanno il testo.\")\n",
    "lyrics"
   ]
  },
  {
   "cell_type": "code",
   "execution_count": 278,
   "metadata": {},
   "outputs": [],
   "source": [
    "def detect_language(text):\n",
    "    return detect(text) if text != '' else None"
   ]
  },
  {
   "cell_type": "code",
   "execution_count": 279,
   "metadata": {},
   "outputs": [],
   "source": [
    "lyrics[\"language\"] = lyrics[\"lyrics\"].apply(detect_language)\n",
    "lyrics"
   ]
  },
  {
   "cell_type": "code",
   "execution_count": 323,
   "metadata": {},
   "outputs": [
    {
     "data": {
      "text/plain": [
       "array([1192, 1522, 1519, ..., 1640, 2071, 2180], dtype=int64)"
      ]
     },
     "execution_count": 323,
     "metadata": {},
     "output_type": "execute_result"
    }
   ],
   "source": [
    "from sklearn.feature_extraction.text import CountVectorizer\n",
    "cvect = CountVectorizer(min_df=20)\n",
    "mat = cvect.fit_transform(lyrics[\"lyrics\"])\n",
    "m = mat.toarray()\n",
    "mt = m.sum(axis=1)\n",
    "mt.argsort()"
   ]
  }
 ],
 "metadata": {
  "kernelspec": {
   "display_name": "Python 3",
   "language": "python",
   "name": "python3"
  },
  "language_info": {
   "codemirror_mode": {
    "name": "ipython",
    "version": 3
   },
   "file_extension": ".py",
   "mimetype": "text/x-python",
   "name": "python",
   "nbconvert_exporter": "python",
   "pygments_lexer": "ipython3",
   "version": "3.10.0"
  },
  "orig_nbformat": 4
 },
 "nbformat": 4,
 "nbformat_minor": 2
}
